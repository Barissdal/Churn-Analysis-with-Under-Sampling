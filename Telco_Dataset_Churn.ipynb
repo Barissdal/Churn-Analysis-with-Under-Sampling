{
  "nbformat": 4,
  "nbformat_minor": 0,
  "metadata": {
    "colab": {
      "name": "Telco_Dataset_Churn.ipynb",
      "provenance": [],
      "collapsed_sections": [],
      "authorship_tag": "ABX9TyN+hKdITqjWJ56W4RRcJ1Vx",
      "include_colab_link": true
    },
    "kernelspec": {
      "name": "python3",
      "display_name": "Python 3"
    },
    "language_info": {
      "name": "python"
    },
    "accelerator": "GPU"
  },
  "cells": [
    {
      "cell_type": "markdown",
      "metadata": {
        "id": "view-in-github",
        "colab_type": "text"
      },
      "source": [
        "<a href=\"https://colab.research.google.com/github/Barissdal/Churn-Analysis-with-Under-Sampling/blob/main/Telco_Dataset_Churn.ipynb\" target=\"_parent\"><img src=\"https://colab.research.google.com/assets/colab-badge.svg\" alt=\"Open In Colab\"/></a>"
      ]
    },
    {
      "cell_type": "code",
      "execution_count": 1,
      "metadata": {
        "colab": {
          "base_uri": "https://localhost:8080/"
        },
        "id": "y92kqLYyyy_c",
        "outputId": "17c913fc-3c68-466e-ba27-fd76e2039eda"
      },
      "outputs": [
        {
          "output_type": "stream",
          "name": "stdout",
          "text": [
            "Mounted at /content/drive\n"
          ]
        }
      ],
      "source": [
        "from google.colab import drive\n",
        "drive.mount('/content/drive')"
      ]
    },
    {
      "cell_type": "code",
      "source": [
        "!pip install catboost"
      ],
      "metadata": {
        "colab": {
          "base_uri": "https://localhost:8080/"
        },
        "id": "zCFCW5MbzLea",
        "outputId": "c1f9816e-c8d4-41bd-c856-6487f9fe2b8e"
      },
      "execution_count": 2,
      "outputs": [
        {
          "output_type": "stream",
          "name": "stdout",
          "text": [
            "Collecting catboost\n",
            "  Downloading catboost-1.0.4-cp37-none-manylinux1_x86_64.whl (76.1 MB)\n",
            "\u001b[K     |████████████████████████████████| 76.1 MB 1.2 MB/s \n",
            "\u001b[?25hRequirement already satisfied: numpy>=1.16.0 in /usr/local/lib/python3.7/dist-packages (from catboost) (1.19.5)\n",
            "Requirement already satisfied: scipy in /usr/local/lib/python3.7/dist-packages (from catboost) (1.4.1)\n",
            "Requirement already satisfied: matplotlib in /usr/local/lib/python3.7/dist-packages (from catboost) (3.2.2)\n",
            "Requirement already satisfied: pandas>=0.24.0 in /usr/local/lib/python3.7/dist-packages (from catboost) (1.1.5)\n",
            "Requirement already satisfied: plotly in /usr/local/lib/python3.7/dist-packages (from catboost) (4.4.1)\n",
            "Requirement already satisfied: six in /usr/local/lib/python3.7/dist-packages (from catboost) (1.15.0)\n",
            "Requirement already satisfied: graphviz in /usr/local/lib/python3.7/dist-packages (from catboost) (0.10.1)\n",
            "Requirement already satisfied: pytz>=2017.2 in /usr/local/lib/python3.7/dist-packages (from pandas>=0.24.0->catboost) (2018.9)\n",
            "Requirement already satisfied: python-dateutil>=2.7.3 in /usr/local/lib/python3.7/dist-packages (from pandas>=0.24.0->catboost) (2.8.2)\n",
            "Requirement already satisfied: kiwisolver>=1.0.1 in /usr/local/lib/python3.7/dist-packages (from matplotlib->catboost) (1.3.2)\n",
            "Requirement already satisfied: cycler>=0.10 in /usr/local/lib/python3.7/dist-packages (from matplotlib->catboost) (0.11.0)\n",
            "Requirement already satisfied: pyparsing!=2.0.4,!=2.1.2,!=2.1.6,>=2.0.1 in /usr/local/lib/python3.7/dist-packages (from matplotlib->catboost) (3.0.6)\n",
            "Requirement already satisfied: retrying>=1.3.3 in /usr/local/lib/python3.7/dist-packages (from plotly->catboost) (1.3.3)\n",
            "Installing collected packages: catboost\n",
            "Successfully installed catboost-1.0.4\n"
          ]
        }
      ]
    },
    {
      "cell_type": "code",
      "source": [
        "!pip install skompiler"
      ],
      "metadata": {
        "colab": {
          "base_uri": "https://localhost:8080/"
        },
        "id": "cd0-Q_W6zyFj",
        "outputId": "aa241b1f-0afe-4ab8-c5e9-9131f7cb1afd"
      },
      "execution_count": 3,
      "outputs": [
        {
          "output_type": "stream",
          "name": "stdout",
          "text": [
            "Collecting skompiler\n",
            "  Downloading SKompiler-0.6.tar.gz (45 kB)\n",
            "\u001b[?25l\r\u001b[K     |███████▎                        | 10 kB 33.9 MB/s eta 0:00:01\r\u001b[K     |██████████████▌                 | 20 kB 40.8 MB/s eta 0:00:01\r\u001b[K     |█████████████████████▊          | 30 kB 43.8 MB/s eta 0:00:01\r\u001b[K     |█████████████████████████████   | 40 kB 46.0 MB/s eta 0:00:01\r\u001b[K     |████████████████████████████████| 45 kB 3.8 MB/s \n",
            "\u001b[?25hRequirement already satisfied: scikit-learn>=0.22 in /usr/local/lib/python3.7/dist-packages (from skompiler) (1.0.2)\n",
            "Requirement already satisfied: joblib>=0.11 in /usr/local/lib/python3.7/dist-packages (from scikit-learn>=0.22->skompiler) (1.1.0)\n",
            "Requirement already satisfied: scipy>=1.1.0 in /usr/local/lib/python3.7/dist-packages (from scikit-learn>=0.22->skompiler) (1.4.1)\n",
            "Requirement already satisfied: numpy>=1.14.6 in /usr/local/lib/python3.7/dist-packages (from scikit-learn>=0.22->skompiler) (1.19.5)\n",
            "Requirement already satisfied: threadpoolctl>=2.0.0 in /usr/local/lib/python3.7/dist-packages (from scikit-learn>=0.22->skompiler) (3.0.0)\n",
            "Building wheels for collected packages: skompiler\n",
            "  Building wheel for skompiler (setup.py) ... \u001b[?25l\u001b[?25hdone\n",
            "  Created wheel for skompiler: filename=SKompiler-0.6-py3-none-any.whl size=54286 sha256=c4a72d59c85f8b9d2ed53aee9583d678fbdb592ad14a161665299ecbc4f81d63\n",
            "  Stored in directory: /root/.cache/pip/wheels/47/1c/59/b80a730f4afd2144bad854df4b167b812486c9d4c1bd4cf4c5\n",
            "Successfully built skompiler\n",
            "Installing collected packages: skompiler\n",
            "Successfully installed skompiler-0.6\n"
          ]
        }
      ]
    },
    {
      "cell_type": "code",
      "source": [
        "import pandas as pd\n",
        "import numpy as np\n",
        "import matplotlib.pyplot as plt\n",
        "from matplotlib.colors import ListedColormap\n",
        "import seaborn as sns\n",
        "import statsmodels.api as sm\n",
        "import statsmodels.formula.api as smf\n",
        "from catboost import CatBoostClassifier\n",
        "import missingno as msno\n",
        "from datetime import date\n",
        "from sklearn.linear_model import LogisticRegression,LogisticRegressionCV\n",
        "from sklearn.model_selection import train_test_split,cross_val_score,cross_val_predict,ShuffleSplit,GridSearchCV\n",
        "from sklearn.decomposition import PCA\n",
        "from sklearn.tree import DecisionTreeClassifier,plot_tree\n",
        "from sklearn import preprocessing\n",
        "from sklearn.pipeline import Pipeline\n",
        "from sklearn.preprocessing import StandardScaler,scale, RobustScaler,LabelEncoder\n",
        "from sklearn.metrics import confusion_matrix,accuracy_score, roc_auc_score,roc_curve, classification_report,mean_squared_error,f1_score,recall_score,precision_score\n",
        "from sklearn.neighbors import KNeighborsClassifier,LocalOutlierFactor \n",
        "from sklearn.ensemble import RandomForestClassifier,BaseEnsemble,GradientBoostingClassifier,IsolationForest\n",
        "from sklearn.svm import SVC,LinearSVC\n",
        "from sklearn.naive_bayes import GaussianNB\n",
        "import time\n",
        "from xgboost import XGBClassifier\n",
        "from skompiler import skompile\n",
        "from lightgbm import LGBMClassifier\n",
        "from joblib import dump, load"
      ],
      "metadata": {
        "id": "4qZxDlIpzTU2"
      },
      "execution_count": 34,
      "outputs": []
    },
    {
      "cell_type": "code",
      "source": [
        "df_ = pd.read_csv(\"/content/drive/MyDrive/resource/telco.csv\")"
      ],
      "metadata": {
        "id": "7JrRx90Tz3mf"
      },
      "execution_count": 5,
      "outputs": []
    },
    {
      "cell_type": "code",
      "source": [
        "df = df_.copy()\n",
        "df.head()"
      ],
      "metadata": {
        "colab": {
          "base_uri": "https://localhost:8080/",
          "height": 357
        },
        "id": "oOWOwRU0z7Yb",
        "outputId": "5a60b92a-378a-4397-e218-3a740880a0e1"
      },
      "execution_count": 6,
      "outputs": [
        {
          "output_type": "execute_result",
          "data": {
            "text/html": [
              "\n",
              "  <div id=\"df-1ac4a632-7887-4473-ae35-5128fefde97e\">\n",
              "    <div class=\"colab-df-container\">\n",
              "      <div>\n",
              "<style scoped>\n",
              "    .dataframe tbody tr th:only-of-type {\n",
              "        vertical-align: middle;\n",
              "    }\n",
              "\n",
              "    .dataframe tbody tr th {\n",
              "        vertical-align: top;\n",
              "    }\n",
              "\n",
              "    .dataframe thead th {\n",
              "        text-align: right;\n",
              "    }\n",
              "</style>\n",
              "<table border=\"1\" class=\"dataframe\">\n",
              "  <thead>\n",
              "    <tr style=\"text-align: right;\">\n",
              "      <th></th>\n",
              "      <th>customerID</th>\n",
              "      <th>gender</th>\n",
              "      <th>SeniorCitizen</th>\n",
              "      <th>Partner</th>\n",
              "      <th>Dependents</th>\n",
              "      <th>tenure</th>\n",
              "      <th>PhoneService</th>\n",
              "      <th>MultipleLines</th>\n",
              "      <th>InternetService</th>\n",
              "      <th>OnlineSecurity</th>\n",
              "      <th>OnlineBackup</th>\n",
              "      <th>DeviceProtection</th>\n",
              "      <th>TechSupport</th>\n",
              "      <th>StreamingTV</th>\n",
              "      <th>StreamingMovies</th>\n",
              "      <th>Contract</th>\n",
              "      <th>PaperlessBilling</th>\n",
              "      <th>PaymentMethod</th>\n",
              "      <th>MonthlyCharges</th>\n",
              "      <th>TotalCharges</th>\n",
              "      <th>Churn</th>\n",
              "    </tr>\n",
              "  </thead>\n",
              "  <tbody>\n",
              "    <tr>\n",
              "      <th>0</th>\n",
              "      <td>7590-VHVEG</td>\n",
              "      <td>Female</td>\n",
              "      <td>0</td>\n",
              "      <td>Yes</td>\n",
              "      <td>No</td>\n",
              "      <td>1</td>\n",
              "      <td>No</td>\n",
              "      <td>No phone service</td>\n",
              "      <td>DSL</td>\n",
              "      <td>No</td>\n",
              "      <td>Yes</td>\n",
              "      <td>No</td>\n",
              "      <td>No</td>\n",
              "      <td>No</td>\n",
              "      <td>No</td>\n",
              "      <td>Month-to-month</td>\n",
              "      <td>Yes</td>\n",
              "      <td>Electronic check</td>\n",
              "      <td>29.85</td>\n",
              "      <td>29.85</td>\n",
              "      <td>No</td>\n",
              "    </tr>\n",
              "    <tr>\n",
              "      <th>1</th>\n",
              "      <td>5575-GNVDE</td>\n",
              "      <td>Male</td>\n",
              "      <td>0</td>\n",
              "      <td>No</td>\n",
              "      <td>No</td>\n",
              "      <td>34</td>\n",
              "      <td>Yes</td>\n",
              "      <td>No</td>\n",
              "      <td>DSL</td>\n",
              "      <td>Yes</td>\n",
              "      <td>No</td>\n",
              "      <td>Yes</td>\n",
              "      <td>No</td>\n",
              "      <td>No</td>\n",
              "      <td>No</td>\n",
              "      <td>One year</td>\n",
              "      <td>No</td>\n",
              "      <td>Mailed check</td>\n",
              "      <td>56.95</td>\n",
              "      <td>1889.5</td>\n",
              "      <td>No</td>\n",
              "    </tr>\n",
              "    <tr>\n",
              "      <th>2</th>\n",
              "      <td>3668-QPYBK</td>\n",
              "      <td>Male</td>\n",
              "      <td>0</td>\n",
              "      <td>No</td>\n",
              "      <td>No</td>\n",
              "      <td>2</td>\n",
              "      <td>Yes</td>\n",
              "      <td>No</td>\n",
              "      <td>DSL</td>\n",
              "      <td>Yes</td>\n",
              "      <td>Yes</td>\n",
              "      <td>No</td>\n",
              "      <td>No</td>\n",
              "      <td>No</td>\n",
              "      <td>No</td>\n",
              "      <td>Month-to-month</td>\n",
              "      <td>Yes</td>\n",
              "      <td>Mailed check</td>\n",
              "      <td>53.85</td>\n",
              "      <td>108.15</td>\n",
              "      <td>Yes</td>\n",
              "    </tr>\n",
              "    <tr>\n",
              "      <th>3</th>\n",
              "      <td>7795-CFOCW</td>\n",
              "      <td>Male</td>\n",
              "      <td>0</td>\n",
              "      <td>No</td>\n",
              "      <td>No</td>\n",
              "      <td>45</td>\n",
              "      <td>No</td>\n",
              "      <td>No phone service</td>\n",
              "      <td>DSL</td>\n",
              "      <td>Yes</td>\n",
              "      <td>No</td>\n",
              "      <td>Yes</td>\n",
              "      <td>Yes</td>\n",
              "      <td>No</td>\n",
              "      <td>No</td>\n",
              "      <td>One year</td>\n",
              "      <td>No</td>\n",
              "      <td>Bank transfer (automatic)</td>\n",
              "      <td>42.30</td>\n",
              "      <td>1840.75</td>\n",
              "      <td>No</td>\n",
              "    </tr>\n",
              "    <tr>\n",
              "      <th>4</th>\n",
              "      <td>9237-HQITU</td>\n",
              "      <td>Female</td>\n",
              "      <td>0</td>\n",
              "      <td>No</td>\n",
              "      <td>No</td>\n",
              "      <td>2</td>\n",
              "      <td>Yes</td>\n",
              "      <td>No</td>\n",
              "      <td>Fiber optic</td>\n",
              "      <td>No</td>\n",
              "      <td>No</td>\n",
              "      <td>No</td>\n",
              "      <td>No</td>\n",
              "      <td>No</td>\n",
              "      <td>No</td>\n",
              "      <td>Month-to-month</td>\n",
              "      <td>Yes</td>\n",
              "      <td>Electronic check</td>\n",
              "      <td>70.70</td>\n",
              "      <td>151.65</td>\n",
              "      <td>Yes</td>\n",
              "    </tr>\n",
              "  </tbody>\n",
              "</table>\n",
              "</div>\n",
              "      <button class=\"colab-df-convert\" onclick=\"convertToInteractive('df-1ac4a632-7887-4473-ae35-5128fefde97e')\"\n",
              "              title=\"Convert this dataframe to an interactive table.\"\n",
              "              style=\"display:none;\">\n",
              "        \n",
              "  <svg xmlns=\"http://www.w3.org/2000/svg\" height=\"24px\"viewBox=\"0 0 24 24\"\n",
              "       width=\"24px\">\n",
              "    <path d=\"M0 0h24v24H0V0z\" fill=\"none\"/>\n",
              "    <path d=\"M18.56 5.44l.94 2.06.94-2.06 2.06-.94-2.06-.94-.94-2.06-.94 2.06-2.06.94zm-11 1L8.5 8.5l.94-2.06 2.06-.94-2.06-.94L8.5 2.5l-.94 2.06-2.06.94zm10 10l.94 2.06.94-2.06 2.06-.94-2.06-.94-.94-2.06-.94 2.06-2.06.94z\"/><path d=\"M17.41 7.96l-1.37-1.37c-.4-.4-.92-.59-1.43-.59-.52 0-1.04.2-1.43.59L10.3 9.45l-7.72 7.72c-.78.78-.78 2.05 0 2.83L4 21.41c.39.39.9.59 1.41.59.51 0 1.02-.2 1.41-.59l7.78-7.78 2.81-2.81c.8-.78.8-2.07 0-2.86zM5.41 20L4 18.59l7.72-7.72 1.47 1.35L5.41 20z\"/>\n",
              "  </svg>\n",
              "      </button>\n",
              "      \n",
              "  <style>\n",
              "    .colab-df-container {\n",
              "      display:flex;\n",
              "      flex-wrap:wrap;\n",
              "      gap: 12px;\n",
              "    }\n",
              "\n",
              "    .colab-df-convert {\n",
              "      background-color: #E8F0FE;\n",
              "      border: none;\n",
              "      border-radius: 50%;\n",
              "      cursor: pointer;\n",
              "      display: none;\n",
              "      fill: #1967D2;\n",
              "      height: 32px;\n",
              "      padding: 0 0 0 0;\n",
              "      width: 32px;\n",
              "    }\n",
              "\n",
              "    .colab-df-convert:hover {\n",
              "      background-color: #E2EBFA;\n",
              "      box-shadow: 0px 1px 2px rgba(60, 64, 67, 0.3), 0px 1px 3px 1px rgba(60, 64, 67, 0.15);\n",
              "      fill: #174EA6;\n",
              "    }\n",
              "\n",
              "    [theme=dark] .colab-df-convert {\n",
              "      background-color: #3B4455;\n",
              "      fill: #D2E3FC;\n",
              "    }\n",
              "\n",
              "    [theme=dark] .colab-df-convert:hover {\n",
              "      background-color: #434B5C;\n",
              "      box-shadow: 0px 1px 3px 1px rgba(0, 0, 0, 0.15);\n",
              "      filter: drop-shadow(0px 1px 2px rgba(0, 0, 0, 0.3));\n",
              "      fill: #FFFFFF;\n",
              "    }\n",
              "  </style>\n",
              "\n",
              "      <script>\n",
              "        const buttonEl =\n",
              "          document.querySelector('#df-1ac4a632-7887-4473-ae35-5128fefde97e button.colab-df-convert');\n",
              "        buttonEl.style.display =\n",
              "          google.colab.kernel.accessAllowed ? 'block' : 'none';\n",
              "\n",
              "        async function convertToInteractive(key) {\n",
              "          const element = document.querySelector('#df-1ac4a632-7887-4473-ae35-5128fefde97e');\n",
              "          const dataTable =\n",
              "            await google.colab.kernel.invokeFunction('convertToInteractive',\n",
              "                                                     [key], {});\n",
              "          if (!dataTable) return;\n",
              "\n",
              "          const docLinkHtml = 'Like what you see? Visit the ' +\n",
              "            '<a target=\"_blank\" href=https://colab.research.google.com/notebooks/data_table.ipynb>data table notebook</a>'\n",
              "            + ' to learn more about interactive tables.';\n",
              "          element.innerHTML = '';\n",
              "          dataTable['output_type'] = 'display_data';\n",
              "          await google.colab.output.renderOutput(dataTable, element);\n",
              "          const docLink = document.createElement('div');\n",
              "          docLink.innerHTML = docLinkHtml;\n",
              "          element.appendChild(docLink);\n",
              "        }\n",
              "      </script>\n",
              "    </div>\n",
              "  </div>\n",
              "  "
            ],
            "text/plain": [
              "   customerID  gender  SeniorCitizen  ... MonthlyCharges TotalCharges  Churn\n",
              "0  7590-VHVEG  Female              0  ...          29.85        29.85     No\n",
              "1  5575-GNVDE    Male              0  ...          56.95       1889.5     No\n",
              "2  3668-QPYBK    Male              0  ...          53.85       108.15    Yes\n",
              "3  7795-CFOCW    Male              0  ...          42.30      1840.75     No\n",
              "4  9237-HQITU  Female              0  ...          70.70       151.65    Yes\n",
              "\n",
              "[5 rows x 21 columns]"
            ]
          },
          "metadata": {},
          "execution_count": 6
        }
      ]
    },
    {
      "cell_type": "code",
      "source": [
        "df.info()"
      ],
      "metadata": {
        "colab": {
          "base_uri": "https://localhost:8080/"
        },
        "id": "Pc2iqyeCz_Nl",
        "outputId": "b5d4ebfb-5631-418a-c782-e7180a0d5fc8"
      },
      "execution_count": null,
      "outputs": [
        {
          "output_type": "stream",
          "name": "stdout",
          "text": [
            "<class 'pandas.core.frame.DataFrame'>\n",
            "RangeIndex: 7043 entries, 0 to 7042\n",
            "Data columns (total 21 columns):\n",
            " #   Column            Non-Null Count  Dtype  \n",
            "---  ------            --------------  -----  \n",
            " 0   customerID        7043 non-null   object \n",
            " 1   gender            7043 non-null   object \n",
            " 2   SeniorCitizen     7043 non-null   int64  \n",
            " 3   Partner           7043 non-null   object \n",
            " 4   Dependents        7043 non-null   object \n",
            " 5   tenure            7043 non-null   int64  \n",
            " 6   PhoneService      7043 non-null   object \n",
            " 7   MultipleLines     7043 non-null   object \n",
            " 8   InternetService   7043 non-null   object \n",
            " 9   OnlineSecurity    7043 non-null   object \n",
            " 10  OnlineBackup      7043 non-null   object \n",
            " 11  DeviceProtection  7043 non-null   object \n",
            " 12  TechSupport       7043 non-null   object \n",
            " 13  StreamingTV       7043 non-null   object \n",
            " 14  StreamingMovies   7043 non-null   object \n",
            " 15  Contract          7043 non-null   object \n",
            " 16  PaperlessBilling  7043 non-null   object \n",
            " 17  PaymentMethod     7043 non-null   object \n",
            " 18  MonthlyCharges    7043 non-null   float64\n",
            " 19  TotalCharges      7043 non-null   object \n",
            " 20  Churn             7043 non-null   object \n",
            "dtypes: float64(1), int64(2), object(18)\n",
            "memory usage: 1.1+ MB\n"
          ]
        }
      ]
    },
    {
      "cell_type": "code",
      "source": [
        "#TotalCharges convert to numeric\n",
        "df[\"TotalCharges\"] = pd.to_numeric(df[\"TotalCharges\"], errors='coerce')"
      ],
      "metadata": {
        "id": "M8A9APhZ0D7p"
      },
      "execution_count": 7,
      "outputs": []
    },
    {
      "cell_type": "code",
      "source": [
        "#Churn convert to binary\n",
        "df[\"Churn\"] = df[\"Churn\"].apply(lambda x : 1 if x == \"Yes\" else 0)"
      ],
      "metadata": {
        "id": "4VRmAt430VKF"
      },
      "execution_count": 8,
      "outputs": []
    },
    {
      "cell_type": "code",
      "source": [
        "#All Columns' name upper\n",
        "df.columns = [col.upper() for col in df.columns]"
      ],
      "metadata": {
        "id": "YKci9VW30dvy"
      },
      "execution_count": 9,
      "outputs": []
    },
    {
      "cell_type": "code",
      "source": [
        "#Show dtype of variables with function\n",
        "\n",
        "def grab_col_names(dataframe, cat_th=10, car_th=20):\n",
        "\n",
        "    \n",
        "    cat_cols = [col for col in dataframe.columns if dataframe[col].dtypes == \"O\"]\n",
        "    num_but_cat = [col for col in dataframe.columns if dataframe[col].nunique() < cat_th and\n",
        "                   dataframe[col].dtypes != \"O\"]\n",
        "    cat_but_car = [col for col in dataframe.columns if dataframe[col].nunique() > car_th and\n",
        "                   dataframe[col].dtypes == \"O\"]\n",
        "    cat_cols = cat_cols + num_but_cat\n",
        "    cat_cols = [col for col in cat_cols if col not in cat_but_car]\n",
        "\n",
        "    \n",
        "    num_cols = [col for col in dataframe.columns if dataframe[col].dtypes != \"O\"]\n",
        "    num_cols = [col for col in num_cols if col not in num_but_cat]\n",
        "  \n",
        "    return cat_cols, num_cols, cat_but_car"
      ],
      "metadata": {
        "id": "nCrlo0WJ0llV"
      },
      "execution_count": 10,
      "outputs": []
    },
    {
      "cell_type": "code",
      "source": [
        "cat_cols, num_cols, cat_but_car = grab_col_names(df)"
      ],
      "metadata": {
        "id": "VypBWKC41O4T"
      },
      "execution_count": 11,
      "outputs": []
    },
    {
      "cell_type": "code",
      "source": [
        "cat_cols"
      ],
      "metadata": {
        "colab": {
          "base_uri": "https://localhost:8080/"
        },
        "id": "-pUjEVd41RMw",
        "outputId": "ac656aec-7528-48ef-97ae-2e5f4cd134d2"
      },
      "execution_count": null,
      "outputs": [
        {
          "output_type": "execute_result",
          "data": {
            "text/plain": [
              "['GENDER',\n",
              " 'PARTNER',\n",
              " 'DEPENDENTS',\n",
              " 'PHONESERVICE',\n",
              " 'MULTIPLELINES',\n",
              " 'INTERNETSERVICE',\n",
              " 'ONLINESECURITY',\n",
              " 'ONLINEBACKUP',\n",
              " 'DEVICEPROTECTION',\n",
              " 'TECHSUPPORT',\n",
              " 'STREAMINGTV',\n",
              " 'STREAMINGMOVIES',\n",
              " 'CONTRACT',\n",
              " 'PAPERLESSBILLING',\n",
              " 'PAYMENTMETHOD',\n",
              " 'SENIORCITIZEN',\n",
              " 'CHURN']"
            ]
          },
          "metadata": {},
          "execution_count": 16
        }
      ]
    },
    {
      "cell_type": "code",
      "source": [
        "num_cols"
      ],
      "metadata": {
        "colab": {
          "base_uri": "https://localhost:8080/"
        },
        "id": "jdXIuIm01SuQ",
        "outputId": "f73da2b5-d306-4b59-a577-d2a5ade00f41"
      },
      "execution_count": null,
      "outputs": [
        {
          "output_type": "execute_result",
          "data": {
            "text/plain": [
              "['TENURE', 'MONTHLYCHARGES', 'TOTALCHARGES']"
            ]
          },
          "metadata": {},
          "execution_count": 17
        }
      ]
    },
    {
      "cell_type": "code",
      "source": [
        "cat_but_car"
      ],
      "metadata": {
        "colab": {
          "base_uri": "https://localhost:8080/"
        },
        "id": "x7cgXwv81VQ0",
        "outputId": "50c5d103-1f1c-4d4e-b740-f57cc7a950fb"
      },
      "execution_count": null,
      "outputs": [
        {
          "output_type": "execute_result",
          "data": {
            "text/plain": [
              "['CUSTOMERID']"
            ]
          },
          "metadata": {},
          "execution_count": 18
        }
      ]
    },
    {
      "cell_type": "code",
      "source": [
        "# describe a function for plot\n",
        "\n",
        "def cat_analyser_plot(df, cat_col, target_col):  \n",
        "    fig, axes = plt.subplots(1, 2, figsize=(12, 4))\n",
        "      \n",
        "    df[cat_col].value_counts().plot(kind='bar', ax=axes[0], color=['#C70C03', '#A0C703', '#C78303', '#C74103'])\n",
        "    axes[0].set_title(f\"{cat_col}\"+\" \"+\"Dağılımı\")\n",
        "    axes[0].set_xlabel(f\"{cat_col}\")\n",
        "    axes[0].set_ylabel(\"Gözlem Sayısı\")\n",
        "    \n",
        "    df.groupby(cat_col)[target_col].mean().plot(kind='bar', ax=axes[1], color=['#C70C03', '#A0C703', '#C78303', '#A0C703'] )\n",
        "    axes[1].set_title(f\"{cat_col}\"+\" \"+\" Kırılımında\"+\" \"+f\"{target_col}\"+\" \"+ \"Ortalaması\")\n",
        "    axes[1].set_xlabel(f\"{cat_col}\")\n",
        "    axes[1].set_ylabel(f\"{target_col}\")\n",
        "    plt.show()"
      ],
      "metadata": {
        "id": "cRZNBOK01WLc"
      },
      "execution_count": 12,
      "outputs": []
    },
    {
      "cell_type": "code",
      "source": [
        "cat_analyser_plot(df,\"SENIORCITIZEN\",\"CHURN\")"
      ],
      "metadata": {
        "colab": {
          "base_uri": "https://localhost:8080/",
          "height": 292
        },
        "id": "wB8U7-zU1w1f",
        "outputId": "5d116883-fb64-4e09-e96b-482ea07b58f2"
      },
      "execution_count": null,
      "outputs": [
        {
          "output_type": "display_data",
          "data": {
            "image/png": "[encoded data removed]",
            "text/plain": [
              "<Figure size 864x288 with 2 Axes>"
            ]
          },
          "metadata": {
            "needs_background": "light"
          }
        }
      ]
    },
    {
      "cell_type": "code",
      "source": [
        "cat_analyser_plot(df,\"PARTNER\",\"CHURN\")"
      ],
      "metadata": {
        "colab": {
          "base_uri": "https://localhost:8080/",
          "height": 301
        },
        "id": "LRBLg1SS3KYn",
        "outputId": "b0afdbee-1bf1-4d18-b04a-011c7df30ba9"
      },
      "execution_count": null,
      "outputs": [
        {
          "output_type": "display_data",
          "data": {
            "image/png": "[encoded data removed]",
            "text/plain": [
              "<Figure size 864x288 with 2 Axes>"
            ]
          },
          "metadata": {
            "needs_background": "light"
          }
        }
      ]
    },
    {
      "cell_type": "code",
      "source": [
        "cat_analyser_plot(df,\"INTERNETSERVICE\",\"CHURN\")"
      ],
      "metadata": {
        "colab": {
          "base_uri": "https://localhost:8080/",
          "height": 337
        },
        "id": "yWA24Qr_4Lpz",
        "outputId": "89924d05-db37-4545-8b36-375e518ae3a6"
      },
      "execution_count": null,
      "outputs": [
        {
          "output_type": "display_data",
          "data": {
            "image/png": "[encoded data removed]",
            "text/plain": [
              "<Figure size 864x288 with 2 Axes>"
            ]
          },
          "metadata": {
            "needs_background": "light"
          }
        }
      ]
    },
    {
      "cell_type": "code",
      "source": [
        "cat_analyser_plot(df,\"DEPENDENTS\",\"CHURN\")"
      ],
      "metadata": {
        "colab": {
          "base_uri": "https://localhost:8080/",
          "height": 301
        },
        "id": "lqPX7n3c4RFG",
        "outputId": "8c05d85f-177b-4ae1-c4c7-c50ce84b5b47"
      },
      "execution_count": null,
      "outputs": [
        {
          "output_type": "display_data",
          "data": {
            "image/png": "[encoded data removed]",
            "text/plain": [
              "<Figure size 864x288 with 2 Axes>"
            ]
          },
          "metadata": {
            "needs_background": "light"
          }
        }
      ]
    },
    {
      "cell_type": "code",
      "source": [
        "# num_cols\n",
        "num_cols"
      ],
      "metadata": {
        "colab": {
          "base_uri": "https://localhost:8080/"
        },
        "id": "ZxPYboCp4U8L",
        "outputId": "f3fc7efd-2009-4105-a5ab-476fc311f0ec"
      },
      "execution_count": null,
      "outputs": [
        {
          "output_type": "execute_result",
          "data": {
            "text/plain": [
              "['TENURE', 'MONTHLYCHARGES', 'TOTALCHARGES']"
            ]
          },
          "metadata": {},
          "execution_count": 45
        }
      ]
    },
    {
      "cell_type": "code",
      "source": [
        "def num_analyser_plot(df, num_col, target_col):\n",
        "    fig, axes = plt.subplots(1, 2, figsize=(12, 4))\n",
        "    \n",
        "    df[num_col].hist(bins=20, ax=axes[0])\n",
        "    axes[0].set_title(f\"{num_col}\"+\" \"+\"Dağılımı\")\n",
        "    axes[0].set_xlabel(f\"{num_col}\")\n",
        "    axes[0].set_ylabel(\"Gözlem Sayısı\")\n",
        "    \n",
        "    quantiles = [0, 0.25, 0.50, 0.75, 1]\n",
        "    num_df = df.copy()\n",
        "    num_df[f\"{num_col}\"+\"_CAT\"] = pd.qcut(df[num_col], q=quantiles) \n",
        "    \n",
        "    num_df.groupby(f\"{num_col}\"+\"_CAT\")[target_col].mean().plot(kind='bar', ax=axes[1], color=['#1f77b4', '#ff7f0e', '#2ca02c', '#d62728'])\n",
        "    axes[1].set_title(f\"{num_col}\"+\" \"+\" Kırılımında\"+\" \"+f\"{target_col}\"+\" \"+ \"Ortalaması\")\n",
        "    axes[1].set_xlabel(f\"{num_col}\")\n",
        "    axes[1].set_ylabel(f\"{target_col}\")\n",
        "    plt.xticks(rotation=0)\n",
        "    plt.show()"
      ],
      "metadata": {
        "id": "w9g3e7h74ceK"
      },
      "execution_count": 13,
      "outputs": []
    },
    {
      "cell_type": "code",
      "source": [
        "num_analyser_plot(df, \"TENURE\", \"CHURN\")"
      ],
      "metadata": {
        "colab": {
          "base_uri": "https://localhost:8080/",
          "height": 295
        },
        "id": "XT-jpYEB4lpw",
        "outputId": "4ffb5c69-96b6-4466-d35f-0d71aee2c748"
      },
      "execution_count": null,
      "outputs": [
        {
          "output_type": "display_data",
          "data": {
            "image/png": "[encoded data removed]",
            "text/plain": [
              "<Figure size 864x288 with 2 Axes>"
            ]
          },
          "metadata": {
            "needs_background": "light"
          }
        }
      ]
    },
    {
      "cell_type": "code",
      "source": [
        "num_analyser_plot(df, \"MONTHLYCHARGES\", \"CHURN\")"
      ],
      "metadata": {
        "colab": {
          "base_uri": "https://localhost:8080/",
          "height": 295
        },
        "id": "LfcrUk6h4yPl",
        "outputId": "5fbe2598-3d94-47d8-b603-85b7564fe5d5"
      },
      "execution_count": null,
      "outputs": [
        {
          "output_type": "display_data",
          "data": {
            "image/png": "[encoded data removed]",
            "text/plain": [
              "<Figure size 864x288 with 2 Axes>"
            ]
          },
          "metadata": {
            "needs_background": "light"
          }
        }
      ]
    },
    {
      "cell_type": "code",
      "source": [
        "num_analyser_plot(df, \"TOTALCHARGES\", \"CHURN\")"
      ],
      "metadata": {
        "colab": {
          "base_uri": "https://localhost:8080/",
          "height": 295
        },
        "id": "UIE_msK24094",
        "outputId": "a5019b47-ca49-44a4-af63-77ebec7c02f5"
      },
      "execution_count": null,
      "outputs": [
        {
          "output_type": "display_data",
          "data": {
            "image/png": "[encoded data removed]",
            "text/plain": [
              "<Figure size 864x288 with 2 Axes>"
            ]
          },
          "metadata": {
            "needs_background": "light"
          }
        }
      ]
    },
    {
      "cell_type": "code",
      "source": [
        "# Outliner (Isolation Forest)\n",
        "plt.figure(figsize=(12,6),dpi=200)\n",
        "sns.set_theme(style=\"whitegrid\")\n",
        "sns.boxplot(data=df, orient=\"h\", palette=\"Set2\")\n",
        "plt.show()"
      ],
      "metadata": {
        "colab": {
          "base_uri": "https://localhost:8080/",
          "height": 578
        },
        "id": "qbjORgo944Vf",
        "outputId": "38fd2ec8-6fc2-4d97-8c93-3a519a2a1755"
      },
      "execution_count": null,
      "outputs": [
        {
          "output_type": "display_data",
          "data": {
            "image/png": "[encoded data removed]",
            "text/plain": [
              "<Figure size 2400x1200 with 1 Axes>"
            ]
          },
          "metadata": {}
        }
      ]
    },
    {
      "cell_type": "code",
      "source": [
        "plt.figure(figsize=(12,6),dpi=200)\n",
        "sns.histplot(data=df,x=\"TOTALCHARGES\",color=\"green\",kde=True)\n",
        "plt.title(\"Distribution of Total Charges\")\n",
        "plt.show()"
      ],
      "metadata": {
        "colab": {
          "base_uri": "https://localhost:8080/",
          "height": 678
        },
        "id": "wt8ZiEY_5Zrk",
        "outputId": "53a59f3a-a4f1-42cd-b8c1-16f9852e701a"
      },
      "execution_count": null,
      "outputs": [
        {
          "output_type": "display_data",
          "data": {
            "image/png": "[encoded data removed]",
            "text/plain": [
              "<Figure size 2400x1200 with 1 Axes>"
            ]
          },
          "metadata": {}
        }
      ]
    },
    {
      "cell_type": "code",
      "source": [
        "pd.DataFrame(df.TOTALCHARGES.value_counts()).head()"
      ],
      "metadata": {
        "colab": {
          "base_uri": "https://localhost:8080/",
          "height": 206
        },
        "id": "5M2LABQY6sQS",
        "outputId": "493122aa-bee6-43d5-cc65-8b9e7e17c367"
      },
      "execution_count": null,
      "outputs": [
        {
          "output_type": "execute_result",
          "data": {
            "text/html": [
              "\n",
              "  <div id=\"df-cf09b5bf-3775-4d91-80a8-a48dd0b4e643\">\n",
              "    <div class=\"colab-df-container\">\n",
              "      <div>\n",
              "<style scoped>\n",
              "    .dataframe tbody tr th:only-of-type {\n",
              "        vertical-align: middle;\n",
              "    }\n",
              "\n",
              "    .dataframe tbody tr th {\n",
              "        vertical-align: top;\n",
              "    }\n",
              "\n",
              "    .dataframe thead th {\n",
              "        text-align: right;\n",
              "    }\n",
              "</style>\n",
              "<table border=\"1\" class=\"dataframe\">\n",
              "  <thead>\n",
              "    <tr style=\"text-align: right;\">\n",
              "      <th></th>\n",
              "      <th>TOTALCHARGES</th>\n",
              "    </tr>\n",
              "  </thead>\n",
              "  <tbody>\n",
              "    <tr>\n",
              "      <th>20.20</th>\n",
              "      <td>11</td>\n",
              "    </tr>\n",
              "    <tr>\n",
              "      <th>19.75</th>\n",
              "      <td>9</td>\n",
              "    </tr>\n",
              "    <tr>\n",
              "      <th>19.65</th>\n",
              "      <td>8</td>\n",
              "    </tr>\n",
              "    <tr>\n",
              "      <th>20.05</th>\n",
              "      <td>8</td>\n",
              "    </tr>\n",
              "    <tr>\n",
              "      <th>19.90</th>\n",
              "      <td>8</td>\n",
              "    </tr>\n",
              "  </tbody>\n",
              "</table>\n",
              "</div>\n",
              "      <button class=\"colab-df-convert\" onclick=\"convertToInteractive('df-cf09b5bf-3775-4d91-80a8-a48dd0b4e643')\"\n",
              "              title=\"Convert this dataframe to an interactive table.\"\n",
              "              style=\"display:none;\">\n",
              "        \n",
              "  <svg xmlns=\"http://www.w3.org/2000/svg\" height=\"24px\"viewBox=\"0 0 24 24\"\n",
              "       width=\"24px\">\n",
              "    <path d=\"M0 0h24v24H0V0z\" fill=\"none\"/>\n",
              "    <path d=\"M18.56 5.44l.94 2.06.94-2.06 2.06-.94-2.06-.94-.94-2.06-.94 2.06-2.06.94zm-11 1L8.5 8.5l.94-2.06 2.06-.94-2.06-.94L8.5 2.5l-.94 2.06-2.06.94zm10 10l.94 2.06.94-2.06 2.06-.94-2.06-.94-.94-2.06-.94 2.06-2.06.94z\"/><path d=\"M17.41 7.96l-1.37-1.37c-.4-.4-.92-.59-1.43-.59-.52 0-1.04.2-1.43.59L10.3 9.45l-7.72 7.72c-.78.78-.78 2.05 0 2.83L4 21.41c.39.39.9.59 1.41.59.51 0 1.02-.2 1.41-.59l7.78-7.78 2.81-2.81c.8-.78.8-2.07 0-2.86zM5.41 20L4 18.59l7.72-7.72 1.47 1.35L5.41 20z\"/>\n",
              "  </svg>\n",
              "      </button>\n",
              "      \n",
              "  <style>\n",
              "    .colab-df-container {\n",
              "      display:flex;\n",
              "      flex-wrap:wrap;\n",
              "      gap: 12px;\n",
              "    }\n",
              "\n",
              "    .colab-df-convert {\n",
              "      background-color: #E8F0FE;\n",
              "      border: none;\n",
              "      border-radius: 50%;\n",
              "      cursor: pointer;\n",
              "      display: none;\n",
              "      fill: #1967D2;\n",
              "      height: 32px;\n",
              "      padding: 0 0 0 0;\n",
              "      width: 32px;\n",
              "    }\n",
              "\n",
              "    .colab-df-convert:hover {\n",
              "      background-color: #E2EBFA;\n",
              "      box-shadow: 0px 1px 2px rgba(60, 64, 67, 0.3), 0px 1px 3px 1px rgba(60, 64, 67, 0.15);\n",
              "      fill: #174EA6;\n",
              "    }\n",
              "\n",
              "    [theme=dark] .colab-df-convert {\n",
              "      background-color: #3B4455;\n",
              "      fill: #D2E3FC;\n",
              "    }\n",
              "\n",
              "    [theme=dark] .colab-df-convert:hover {\n",
              "      background-color: #434B5C;\n",
              "      box-shadow: 0px 1px 3px 1px rgba(0, 0, 0, 0.15);\n",
              "      filter: drop-shadow(0px 1px 2px rgba(0, 0, 0, 0.3));\n",
              "      fill: #FFFFFF;\n",
              "    }\n",
              "  </style>\n",
              "\n",
              "      <script>\n",
              "        const buttonEl =\n",
              "          document.querySelector('#df-cf09b5bf-3775-4d91-80a8-a48dd0b4e643 button.colab-df-convert');\n",
              "        buttonEl.style.display =\n",
              "          google.colab.kernel.accessAllowed ? 'block' : 'none';\n",
              "\n",
              "        async function convertToInteractive(key) {\n",
              "          const element = document.querySelector('#df-cf09b5bf-3775-4d91-80a8-a48dd0b4e643');\n",
              "          const dataTable =\n",
              "            await google.colab.kernel.invokeFunction('convertToInteractive',\n",
              "                                                     [key], {});\n",
              "          if (!dataTable) return;\n",
              "\n",
              "          const docLinkHtml = 'Like what you see? Visit the ' +\n",
              "            '<a target=\"_blank\" href=https://colab.research.google.com/notebooks/data_table.ipynb>data table notebook</a>'\n",
              "            + ' to learn more about interactive tables.';\n",
              "          element.innerHTML = '';\n",
              "          dataTable['output_type'] = 'display_data';\n",
              "          await google.colab.output.renderOutput(dataTable, element);\n",
              "          const docLink = document.createElement('div');\n",
              "          docLink.innerHTML = docLinkHtml;\n",
              "          element.appendChild(docLink);\n",
              "        }\n",
              "      </script>\n",
              "    </div>\n",
              "  </div>\n",
              "  "
            ],
            "text/plain": [
              "       TOTALCHARGES\n",
              "20.20            11\n",
              "19.75             9\n",
              "19.65             8\n",
              "20.05             8\n",
              "19.90             8"
            ]
          },
          "metadata": {},
          "execution_count": 59
        }
      ]
    },
    {
      "cell_type": "code",
      "source": [
        "df[\"TOTALCHARGES\"].isnull().values.any()"
      ],
      "metadata": {
        "colab": {
          "base_uri": "https://localhost:8080/"
        },
        "id": "4KeEudBa68SL",
        "outputId": "3dbdb55a-6b8f-49be-99a5-f1ef55d2db8c"
      },
      "execution_count": null,
      "outputs": [
        {
          "output_type": "execute_result",
          "data": {
            "text/plain": [
              "True"
            ]
          },
          "metadata": {},
          "execution_count": 63
        }
      ]
    },
    {
      "cell_type": "code",
      "source": [
        "df[\"TOTALCHARGES\"].fillna(df[\"TOTALCHARGES\"].median(), inplace=True) "
      ],
      "metadata": {
        "id": "EqWelRo47LQO"
      },
      "execution_count": 14,
      "outputs": []
    },
    {
      "cell_type": "code",
      "source": [
        "model=IsolationForest(n_estimators=1000,max_samples='auto',contamination=float(0.2),max_features=1.0)\n",
        "model.fit(df[['TOTALCHARGES']])"
      ],
      "metadata": {
        "colab": {
          "base_uri": "https://localhost:8080/"
        },
        "id": "gybfJtbf54NK",
        "outputId": "ebe20c47-a1ea-4a05-8ebc-7ebc9417e8b8"
      },
      "execution_count": 15,
      "outputs": [
        {
          "output_type": "stream",
          "name": "stderr",
          "text": [
            "/usr/local/lib/python3.7/dist-packages/sklearn/base.py:451: UserWarning: X does not have valid feature names, but IsolationForest was fitted with feature names\n",
            "  \"X does not have valid feature names, but\"\n"
          ]
        },
        {
          "output_type": "execute_result",
          "data": {
            "text/plain": [
              "IsolationForest(contamination=0.2, n_estimators=1000)"
            ]
          },
          "metadata": {},
          "execution_count": 15
        }
      ]
    },
    {
      "cell_type": "code",
      "source": [
        "df['scores']=model.decision_function(df[['TOTALCHARGES']])\n",
        "df['anomaly']=model.predict(df[['TOTALCHARGES']])\n",
        "df.tail(10)"
      ],
      "metadata": {
        "colab": {
          "base_uri": "https://localhost:8080/",
          "height": 601
        },
        "id": "LvG02o7-7S78",
        "outputId": "738f9741-56cd-46a8-c7af-316500ad01ba"
      },
      "execution_count": 16,
      "outputs": [
        {
          "output_type": "execute_result",
          "data": {
            "text/html": [
              "\n",
              "  <div id=\"df-02424fc3-1c3f-4514-9536-dc3e135e1dfb\">\n",
              "    <div class=\"colab-df-container\">\n",
              "      <div>\n",
              "<style scoped>\n",
              "    .dataframe tbody tr th:only-of-type {\n",
              "        vertical-align: middle;\n",
              "    }\n",
              "\n",
              "    .dataframe tbody tr th {\n",
              "        vertical-align: top;\n",
              "    }\n",
              "\n",
              "    .dataframe thead th {\n",
              "        text-align: right;\n",
              "    }\n",
              "</style>\n",
              "<table border=\"1\" class=\"dataframe\">\n",
              "  <thead>\n",
              "    <tr style=\"text-align: right;\">\n",
              "      <th></th>\n",
              "      <th>CUSTOMERID</th>\n",
              "      <th>GENDER</th>\n",
              "      <th>SENIORCITIZEN</th>\n",
              "      <th>PARTNER</th>\n",
              "      <th>DEPENDENTS</th>\n",
              "      <th>TENURE</th>\n",
              "      <th>PHONESERVICE</th>\n",
              "      <th>MULTIPLELINES</th>\n",
              "      <th>INTERNETSERVICE</th>\n",
              "      <th>ONLINESECURITY</th>\n",
              "      <th>ONLINEBACKUP</th>\n",
              "      <th>DEVICEPROTECTION</th>\n",
              "      <th>TECHSUPPORT</th>\n",
              "      <th>STREAMINGTV</th>\n",
              "      <th>STREAMINGMOVIES</th>\n",
              "      <th>CONTRACT</th>\n",
              "      <th>PAPERLESSBILLING</th>\n",
              "      <th>PAYMENTMETHOD</th>\n",
              "      <th>MONTHLYCHARGES</th>\n",
              "      <th>TOTALCHARGES</th>\n",
              "      <th>CHURN</th>\n",
              "      <th>scores</th>\n",
              "      <th>anomaly</th>\n",
              "    </tr>\n",
              "  </thead>\n",
              "  <tbody>\n",
              "    <tr>\n",
              "      <th>7033</th>\n",
              "      <td>9767-FFLEM</td>\n",
              "      <td>Male</td>\n",
              "      <td>0</td>\n",
              "      <td>No</td>\n",
              "      <td>No</td>\n",
              "      <td>38</td>\n",
              "      <td>Yes</td>\n",
              "      <td>No</td>\n",
              "      <td>Fiber optic</td>\n",
              "      <td>No</td>\n",
              "      <td>No</td>\n",
              "      <td>No</td>\n",
              "      <td>No</td>\n",
              "      <td>No</td>\n",
              "      <td>No</td>\n",
              "      <td>Month-to-month</td>\n",
              "      <td>Yes</td>\n",
              "      <td>Credit card (automatic)</td>\n",
              "      <td>69.50</td>\n",
              "      <td>2625.25</td>\n",
              "      <td>0</td>\n",
              "      <td>0.017372</td>\n",
              "      <td>1</td>\n",
              "    </tr>\n",
              "    <tr>\n",
              "      <th>7034</th>\n",
              "      <td>0639-TSIQW</td>\n",
              "      <td>Female</td>\n",
              "      <td>0</td>\n",
              "      <td>No</td>\n",
              "      <td>No</td>\n",
              "      <td>67</td>\n",
              "      <td>Yes</td>\n",
              "      <td>Yes</td>\n",
              "      <td>Fiber optic</td>\n",
              "      <td>Yes</td>\n",
              "      <td>Yes</td>\n",
              "      <td>Yes</td>\n",
              "      <td>No</td>\n",
              "      <td>Yes</td>\n",
              "      <td>No</td>\n",
              "      <td>Month-to-month</td>\n",
              "      <td>Yes</td>\n",
              "      <td>Credit card (automatic)</td>\n",
              "      <td>102.95</td>\n",
              "      <td>6886.25</td>\n",
              "      <td>1</td>\n",
              "      <td>-0.056482</td>\n",
              "      <td>-1</td>\n",
              "    </tr>\n",
              "    <tr>\n",
              "      <th>7035</th>\n",
              "      <td>8456-QDAVC</td>\n",
              "      <td>Male</td>\n",
              "      <td>0</td>\n",
              "      <td>No</td>\n",
              "      <td>No</td>\n",
              "      <td>19</td>\n",
              "      <td>Yes</td>\n",
              "      <td>No</td>\n",
              "      <td>Fiber optic</td>\n",
              "      <td>No</td>\n",
              "      <td>No</td>\n",
              "      <td>No</td>\n",
              "      <td>No</td>\n",
              "      <td>Yes</td>\n",
              "      <td>No</td>\n",
              "      <td>Month-to-month</td>\n",
              "      <td>Yes</td>\n",
              "      <td>Bank transfer (automatic)</td>\n",
              "      <td>78.70</td>\n",
              "      <td>1495.10</td>\n",
              "      <td>0</td>\n",
              "      <td>0.047775</td>\n",
              "      <td>1</td>\n",
              "    </tr>\n",
              "    <tr>\n",
              "      <th>7036</th>\n",
              "      <td>7750-EYXWZ</td>\n",
              "      <td>Female</td>\n",
              "      <td>0</td>\n",
              "      <td>No</td>\n",
              "      <td>No</td>\n",
              "      <td>12</td>\n",
              "      <td>No</td>\n",
              "      <td>No phone service</td>\n",
              "      <td>DSL</td>\n",
              "      <td>No</td>\n",
              "      <td>Yes</td>\n",
              "      <td>Yes</td>\n",
              "      <td>Yes</td>\n",
              "      <td>Yes</td>\n",
              "      <td>Yes</td>\n",
              "      <td>One year</td>\n",
              "      <td>No</td>\n",
              "      <td>Electronic check</td>\n",
              "      <td>60.65</td>\n",
              "      <td>743.30</td>\n",
              "      <td>0</td>\n",
              "      <td>0.050575</td>\n",
              "      <td>1</td>\n",
              "    </tr>\n",
              "    <tr>\n",
              "      <th>7037</th>\n",
              "      <td>2569-WGERO</td>\n",
              "      <td>Female</td>\n",
              "      <td>0</td>\n",
              "      <td>No</td>\n",
              "      <td>No</td>\n",
              "      <td>72</td>\n",
              "      <td>Yes</td>\n",
              "      <td>No</td>\n",
              "      <td>No</td>\n",
              "      <td>No internet service</td>\n",
              "      <td>No internet service</td>\n",
              "      <td>No internet service</td>\n",
              "      <td>No internet service</td>\n",
              "      <td>No internet service</td>\n",
              "      <td>No internet service</td>\n",
              "      <td>Two year</td>\n",
              "      <td>Yes</td>\n",
              "      <td>Bank transfer (automatic)</td>\n",
              "      <td>21.15</td>\n",
              "      <td>1419.40</td>\n",
              "      <td>0</td>\n",
              "      <td>0.053947</td>\n",
              "      <td>1</td>\n",
              "    </tr>\n",
              "    <tr>\n",
              "      <th>7038</th>\n",
              "      <td>6840-RESVB</td>\n",
              "      <td>Male</td>\n",
              "      <td>0</td>\n",
              "      <td>Yes</td>\n",
              "      <td>Yes</td>\n",
              "      <td>24</td>\n",
              "      <td>Yes</td>\n",
              "      <td>Yes</td>\n",
              "      <td>DSL</td>\n",
              "      <td>Yes</td>\n",
              "      <td>No</td>\n",
              "      <td>Yes</td>\n",
              "      <td>Yes</td>\n",
              "      <td>Yes</td>\n",
              "      <td>Yes</td>\n",
              "      <td>One year</td>\n",
              "      <td>Yes</td>\n",
              "      <td>Mailed check</td>\n",
              "      <td>84.80</td>\n",
              "      <td>1990.50</td>\n",
              "      <td>0</td>\n",
              "      <td>0.023297</td>\n",
              "      <td>1</td>\n",
              "    </tr>\n",
              "    <tr>\n",
              "      <th>7039</th>\n",
              "      <td>2234-XADUH</td>\n",
              "      <td>Female</td>\n",
              "      <td>0</td>\n",
              "      <td>Yes</td>\n",
              "      <td>Yes</td>\n",
              "      <td>72</td>\n",
              "      <td>Yes</td>\n",
              "      <td>Yes</td>\n",
              "      <td>Fiber optic</td>\n",
              "      <td>No</td>\n",
              "      <td>Yes</td>\n",
              "      <td>Yes</td>\n",
              "      <td>No</td>\n",
              "      <td>Yes</td>\n",
              "      <td>Yes</td>\n",
              "      <td>One year</td>\n",
              "      <td>Yes</td>\n",
              "      <td>Credit card (automatic)</td>\n",
              "      <td>103.20</td>\n",
              "      <td>7362.90</td>\n",
              "      <td>0</td>\n",
              "      <td>-0.084250</td>\n",
              "      <td>-1</td>\n",
              "    </tr>\n",
              "    <tr>\n",
              "      <th>7040</th>\n",
              "      <td>4801-JZAZL</td>\n",
              "      <td>Female</td>\n",
              "      <td>0</td>\n",
              "      <td>Yes</td>\n",
              "      <td>Yes</td>\n",
              "      <td>11</td>\n",
              "      <td>No</td>\n",
              "      <td>No phone service</td>\n",
              "      <td>DSL</td>\n",
              "      <td>Yes</td>\n",
              "      <td>No</td>\n",
              "      <td>No</td>\n",
              "      <td>No</td>\n",
              "      <td>No</td>\n",
              "      <td>No</td>\n",
              "      <td>Month-to-month</td>\n",
              "      <td>Yes</td>\n",
              "      <td>Electronic check</td>\n",
              "      <td>29.60</td>\n",
              "      <td>346.45</td>\n",
              "      <td>0</td>\n",
              "      <td>0.054415</td>\n",
              "      <td>1</td>\n",
              "    </tr>\n",
              "    <tr>\n",
              "      <th>7041</th>\n",
              "      <td>8361-LTMKD</td>\n",
              "      <td>Male</td>\n",
              "      <td>1</td>\n",
              "      <td>Yes</td>\n",
              "      <td>No</td>\n",
              "      <td>4</td>\n",
              "      <td>Yes</td>\n",
              "      <td>Yes</td>\n",
              "      <td>Fiber optic</td>\n",
              "      <td>No</td>\n",
              "      <td>No</td>\n",
              "      <td>No</td>\n",
              "      <td>No</td>\n",
              "      <td>No</td>\n",
              "      <td>No</td>\n",
              "      <td>Month-to-month</td>\n",
              "      <td>Yes</td>\n",
              "      <td>Mailed check</td>\n",
              "      <td>74.40</td>\n",
              "      <td>306.60</td>\n",
              "      <td>1</td>\n",
              "      <td>0.058813</td>\n",
              "      <td>1</td>\n",
              "    </tr>\n",
              "    <tr>\n",
              "      <th>7042</th>\n",
              "      <td>3186-AJIEK</td>\n",
              "      <td>Male</td>\n",
              "      <td>0</td>\n",
              "      <td>No</td>\n",
              "      <td>No</td>\n",
              "      <td>66</td>\n",
              "      <td>Yes</td>\n",
              "      <td>No</td>\n",
              "      <td>Fiber optic</td>\n",
              "      <td>Yes</td>\n",
              "      <td>No</td>\n",
              "      <td>Yes</td>\n",
              "      <td>Yes</td>\n",
              "      <td>Yes</td>\n",
              "      <td>Yes</td>\n",
              "      <td>Two year</td>\n",
              "      <td>Yes</td>\n",
              "      <td>Bank transfer (automatic)</td>\n",
              "      <td>105.65</td>\n",
              "      <td>6844.50</td>\n",
              "      <td>0</td>\n",
              "      <td>-0.053273</td>\n",
              "      <td>-1</td>\n",
              "    </tr>\n",
              "  </tbody>\n",
              "</table>\n",
              "</div>\n",
              "      <button class=\"colab-df-convert\" onclick=\"convertToInteractive('df-02424fc3-1c3f-4514-9536-dc3e135e1dfb')\"\n",
              "              title=\"Convert this dataframe to an interactive table.\"\n",
              "              style=\"display:none;\">\n",
              "        \n",
              "  <svg xmlns=\"http://www.w3.org/2000/svg\" height=\"24px\"viewBox=\"0 0 24 24\"\n",
              "       width=\"24px\">\n",
              "    <path d=\"M0 0h24v24H0V0z\" fill=\"none\"/>\n",
              "    <path d=\"M18.56 5.44l.94 2.06.94-2.06 2.06-.94-2.06-.94-.94-2.06-.94 2.06-2.06.94zm-11 1L8.5 8.5l.94-2.06 2.06-.94-2.06-.94L8.5 2.5l-.94 2.06-2.06.94zm10 10l.94 2.06.94-2.06 2.06-.94-2.06-.94-.94-2.06-.94 2.06-2.06.94z\"/><path d=\"M17.41 7.96l-1.37-1.37c-.4-.4-.92-.59-1.43-.59-.52 0-1.04.2-1.43.59L10.3 9.45l-7.72 7.72c-.78.78-.78 2.05 0 2.83L4 21.41c.39.39.9.59 1.41.59.51 0 1.02-.2 1.41-.59l7.78-7.78 2.81-2.81c.8-.78.8-2.07 0-2.86zM5.41 20L4 18.59l7.72-7.72 1.47 1.35L5.41 20z\"/>\n",
              "  </svg>\n",
              "      </button>\n",
              "      \n",
              "  <style>\n",
              "    .colab-df-container {\n",
              "      display:flex;\n",
              "      flex-wrap:wrap;\n",
              "      gap: 12px;\n",
              "    }\n",
              "\n",
              "    .colab-df-convert {\n",
              "      background-color: #E8F0FE;\n",
              "      border: none;\n",
              "      border-radius: 50%;\n",
              "      cursor: pointer;\n",
              "      display: none;\n",
              "      fill: #1967D2;\n",
              "      height: 32px;\n",
              "      padding: 0 0 0 0;\n",
              "      width: 32px;\n",
              "    }\n",
              "\n",
              "    .colab-df-convert:hover {\n",
              "      background-color: #E2EBFA;\n",
              "      box-shadow: 0px 1px 2px rgba(60, 64, 67, 0.3), 0px 1px 3px 1px rgba(60, 64, 67, 0.15);\n",
              "      fill: #174EA6;\n",
              "    }\n",
              "\n",
              "    [theme=dark] .colab-df-convert {\n",
              "      background-color: #3B4455;\n",
              "      fill: #D2E3FC;\n",
              "    }\n",
              "\n",
              "    [theme=dark] .colab-df-convert:hover {\n",
              "      background-color: #434B5C;\n",
              "      box-shadow: 0px 1px 3px 1px rgba(0, 0, 0, 0.15);\n",
              "      filter: drop-shadow(0px 1px 2px rgba(0, 0, 0, 0.3));\n",
              "      fill: #FFFFFF;\n",
              "    }\n",
              "  </style>\n",
              "\n",
              "      <script>\n",
              "        const buttonEl =\n",
              "          document.querySelector('#df-02424fc3-1c3f-4514-9536-dc3e135e1dfb button.colab-df-convert');\n",
              "        buttonEl.style.display =\n",
              "          google.colab.kernel.accessAllowed ? 'block' : 'none';\n",
              "\n",
              "        async function convertToInteractive(key) {\n",
              "          const element = document.querySelector('#df-02424fc3-1c3f-4514-9536-dc3e135e1dfb');\n",
              "          const dataTable =\n",
              "            await google.colab.kernel.invokeFunction('convertToInteractive',\n",
              "                                                     [key], {});\n",
              "          if (!dataTable) return;\n",
              "\n",
              "          const docLinkHtml = 'Like what you see? Visit the ' +\n",
              "            '<a target=\"_blank\" href=https://colab.research.google.com/notebooks/data_table.ipynb>data table notebook</a>'\n",
              "            + ' to learn more about interactive tables.';\n",
              "          element.innerHTML = '';\n",
              "          dataTable['output_type'] = 'display_data';\n",
              "          await google.colab.output.renderOutput(dataTable, element);\n",
              "          const docLink = document.createElement('div');\n",
              "          docLink.innerHTML = docLinkHtml;\n",
              "          element.appendChild(docLink);\n",
              "        }\n",
              "      </script>\n",
              "    </div>\n",
              "  </div>\n",
              "  "
            ],
            "text/plain": [
              "      CUSTOMERID  GENDER  SENIORCITIZEN  ... CHURN    scores  anomaly\n",
              "7033  9767-FFLEM    Male              0  ...     0  0.017372        1\n",
              "7034  0639-TSIQW  Female              0  ...     1 -0.056482       -1\n",
              "7035  8456-QDAVC    Male              0  ...     0  0.047775        1\n",
              "7036  7750-EYXWZ  Female              0  ...     0  0.050575        1\n",
              "7037  2569-WGERO  Female              0  ...     0  0.053947        1\n",
              "7038  6840-RESVB    Male              0  ...     0  0.023297        1\n",
              "7039  2234-XADUH  Female              0  ...     0 -0.084250       -1\n",
              "7040  4801-JZAZL  Female              0  ...     0  0.054415        1\n",
              "7041  8361-LTMKD    Male              1  ...     1  0.058813        1\n",
              "7042  3186-AJIEK    Male              0  ...     0 -0.053273       -1\n",
              "\n",
              "[10 rows x 23 columns]"
            ]
          },
          "metadata": {},
          "execution_count": 16
        }
      ]
    },
    {
      "cell_type": "code",
      "source": [
        "df_anomaly = df[df['anomaly'] != -1]\n",
        "df_anomaly.info()"
      ],
      "metadata": {
        "colab": {
          "base_uri": "https://localhost:8080/"
        },
        "id": "6XsIRJTY70ro",
        "outputId": "5202bdeb-6154-462f-d4fa-d4e562fbd954"
      },
      "execution_count": 17,
      "outputs": [
        {
          "output_type": "stream",
          "name": "stdout",
          "text": [
            "<class 'pandas.core.frame.DataFrame'>\n",
            "Int64Index: 5634 entries, 0 to 7041\n",
            "Data columns (total 23 columns):\n",
            " #   Column            Non-Null Count  Dtype  \n",
            "---  ------            --------------  -----  \n",
            " 0   CUSTOMERID        5634 non-null   object \n",
            " 1   GENDER            5634 non-null   object \n",
            " 2   SENIORCITIZEN     5634 non-null   int64  \n",
            " 3   PARTNER           5634 non-null   object \n",
            " 4   DEPENDENTS        5634 non-null   object \n",
            " 5   TENURE            5634 non-null   int64  \n",
            " 6   PHONESERVICE      5634 non-null   object \n",
            " 7   MULTIPLELINES     5634 non-null   object \n",
            " 8   INTERNETSERVICE   5634 non-null   object \n",
            " 9   ONLINESECURITY    5634 non-null   object \n",
            " 10  ONLINEBACKUP      5634 non-null   object \n",
            " 11  DEVICEPROTECTION  5634 non-null   object \n",
            " 12  TECHSUPPORT       5634 non-null   object \n",
            " 13  STREAMINGTV       5634 non-null   object \n",
            " 14  STREAMINGMOVIES   5634 non-null   object \n",
            " 15  CONTRACT          5634 non-null   object \n",
            " 16  PAPERLESSBILLING  5634 non-null   object \n",
            " 17  PAYMENTMETHOD     5634 non-null   object \n",
            " 18  MONTHLYCHARGES    5634 non-null   float64\n",
            " 19  TOTALCHARGES      5634 non-null   float64\n",
            " 20  CHURN             5634 non-null   int64  \n",
            " 21  scores            5634 non-null   float64\n",
            " 22  anomaly           5634 non-null   int64  \n",
            "dtypes: float64(3), int64(4), object(16)\n",
            "memory usage: 1.0+ MB\n"
          ]
        }
      ]
    },
    {
      "cell_type": "code",
      "source": [
        "df_anomaly.drop(\"scores\",axis=1, inplace=True)"
      ],
      "metadata": {
        "id": "YV9X4Nn48H4z"
      },
      "execution_count": null,
      "outputs": []
    },
    {
      "cell_type": "code",
      "source": [
        "df_anomaly.drop(\"anomaly\",axis=1, inplace=True)"
      ],
      "metadata": {
        "id": "P2fIwcKA8VZh"
      },
      "execution_count": null,
      "outputs": []
    },
    {
      "cell_type": "code",
      "source": [
        "df_study=df_anomaly"
      ],
      "metadata": {
        "id": "GWfbCWh38c6K"
      },
      "execution_count": 20,
      "outputs": []
    },
    {
      "cell_type": "markdown",
      "source": [
        "Create New Variables"
      ],
      "metadata": {
        "id": "SsP1g2Oa8kcx"
      }
    },
    {
      "cell_type": "code",
      "source": [
        "df_study['NEW_TotalServices'] = (df_study[['PHONESERVICE', 'INTERNETSERVICE', 'ONLINESECURITY',\n",
        "                                 'ONLINEBACKUP', 'DEVICEPROTECTION', 'TECHSUPPORT',\n",
        "                                 'STREAMINGTV', 'STREAMINGMOVIES']]== 'Yes').sum(axis=1)"
      ],
      "metadata": {
        "id": "u82djVTJ9DA2"
      },
      "execution_count": null,
      "outputs": []
    },
    {
      "cell_type": "code",
      "source": [
        "df_study[\"NEW_AVG_Service_Fee\"] = df_study[\"MONTHLYCHARGES\"] / (df_study['NEW_TotalServices'] + 1)"
      ],
      "metadata": {
        "id": "vmZY3DCZ8f81"
      },
      "execution_count": null,
      "outputs": []
    },
    {
      "cell_type": "code",
      "source": [
        "#Label encoder\n",
        "def label_encoder(dataframe, binary_col):\n",
        "    labelencoder = LabelEncoder()\n",
        "    dataframe[binary_col] = labelencoder.fit_transform(dataframe[binary_col])\n",
        "    return dataframe"
      ],
      "metadata": {
        "id": "5YXPGNOI9JIW"
      },
      "execution_count": 31,
      "outputs": []
    },
    {
      "cell_type": "code",
      "source": [
        "binary_cols = [col for col in df_study.columns if df_study[col].dtype == \"O\" and df_study[col].nunique() == 2]\n",
        "binary_cols"
      ],
      "metadata": {
        "colab": {
          "base_uri": "https://localhost:8080/"
        },
        "id": "grYh_8Z29TJb",
        "outputId": "4badce2d-9ec6-41a4-e322-e13199fc4a69"
      },
      "execution_count": 32,
      "outputs": [
        {
          "output_type": "execute_result",
          "data": {
            "text/plain": [
              "['GENDER', 'PARTNER', 'DEPENDENTS', 'PHONESERVICE', 'PAPERLESSBILLING']"
            ]
          },
          "metadata": {},
          "execution_count": 32
        }
      ]
    },
    {
      "cell_type": "code",
      "source": [
        "for col in binary_cols:\n",
        "    df_study = label_encoder(df_study, col)\n",
        "df_study.head(2)"
      ],
      "metadata": {
        "id": "gcgaITQJ9cl-"
      },
      "execution_count": null,
      "outputs": []
    },
    {
      "cell_type": "code",
      "source": [
        "#One-hot encoding (>2)\n",
        "ohe_cols = [col for col in df_study.columns if 10 >= df_study[col].nunique() > 2]  \n",
        "ohe_cols"
      ],
      "metadata": {
        "colab": {
          "base_uri": "https://localhost:8080/"
        },
        "id": "gCG8i8A49kRN",
        "outputId": "430ccde1-d674-41f1-e22d-00e336f4fe4a"
      },
      "execution_count": 36,
      "outputs": [
        {
          "output_type": "execute_result",
          "data": {
            "text/plain": [
              "['MULTIPLELINES',\n",
              " 'INTERNETSERVICE',\n",
              " 'ONLINESECURITY',\n",
              " 'ONLINEBACKUP',\n",
              " 'DEVICEPROTECTION',\n",
              " 'TECHSUPPORT',\n",
              " 'STREAMINGTV',\n",
              " 'STREAMINGMOVIES',\n",
              " 'CONTRACT',\n",
              " 'PAYMENTMETHOD',\n",
              " 'NEW_TotalServices']"
            ]
          },
          "metadata": {},
          "execution_count": 36
        }
      ]
    },
    {
      "cell_type": "code",
      "source": [
        "def one_hot_encoder(dataframe, categorical_cols, drop_first=True):\n",
        "    dataframe = pd.get_dummies(dataframe, columns=categorical_cols, drop_first=drop_first)\n",
        "    return dataframe"
      ],
      "metadata": {
        "id": "e9VqIDUN9wp5"
      },
      "execution_count": 37,
      "outputs": []
    },
    {
      "cell_type": "code",
      "source": [
        "df_study = one_hot_encoder(df_study, ohe_cols)\n",
        "df_study.head(2)"
      ],
      "metadata": {
        "colab": {
          "base_uri": "https://localhost:8080/",
          "height": 246
        },
        "id": "yaFhy9TF9yq6",
        "outputId": "5d6691b5-2787-44c5-988c-40861a1eca76"
      },
      "execution_count": 38,
      "outputs": [
        {
          "output_type": "execute_result",
          "data": {
            "text/html": [
              "\n",
              "  <div id=\"df-ca268db2-acf1-4f1f-b37e-15afce00dd8f\">\n",
              "    <div class=\"colab-df-container\">\n",
              "      <div>\n",
              "<style scoped>\n",
              "    .dataframe tbody tr th:only-of-type {\n",
              "        vertical-align: middle;\n",
              "    }\n",
              "\n",
              "    .dataframe tbody tr th {\n",
              "        vertical-align: top;\n",
              "    }\n",
              "\n",
              "    .dataframe thead th {\n",
              "        text-align: right;\n",
              "    }\n",
              "</style>\n",
              "<table border=\"1\" class=\"dataframe\">\n",
              "  <thead>\n",
              "    <tr style=\"text-align: right;\">\n",
              "      <th></th>\n",
              "      <th>CUSTOMERID</th>\n",
              "      <th>GENDER</th>\n",
              "      <th>SENIORCITIZEN</th>\n",
              "      <th>PARTNER</th>\n",
              "      <th>DEPENDENTS</th>\n",
              "      <th>TENURE</th>\n",
              "      <th>PHONESERVICE</th>\n",
              "      <th>PAPERLESSBILLING</th>\n",
              "      <th>MONTHLYCHARGES</th>\n",
              "      <th>TOTALCHARGES</th>\n",
              "      <th>CHURN</th>\n",
              "      <th>NEW_AVG_Service_Fee</th>\n",
              "      <th>MULTIPLELINES_No phone service</th>\n",
              "      <th>MULTIPLELINES_Yes</th>\n",
              "      <th>INTERNETSERVICE_Fiber optic</th>\n",
              "      <th>INTERNETSERVICE_No</th>\n",
              "      <th>ONLINESECURITY_No internet service</th>\n",
              "      <th>ONLINESECURITY_Yes</th>\n",
              "      <th>ONLINEBACKUP_No internet service</th>\n",
              "      <th>ONLINEBACKUP_Yes</th>\n",
              "      <th>DEVICEPROTECTION_No internet service</th>\n",
              "      <th>DEVICEPROTECTION_Yes</th>\n",
              "      <th>TECHSUPPORT_No internet service</th>\n",
              "      <th>TECHSUPPORT_Yes</th>\n",
              "      <th>STREAMINGTV_No internet service</th>\n",
              "      <th>STREAMINGTV_Yes</th>\n",
              "      <th>STREAMINGMOVIES_No internet service</th>\n",
              "      <th>STREAMINGMOVIES_Yes</th>\n",
              "      <th>CONTRACT_One year</th>\n",
              "      <th>CONTRACT_Two year</th>\n",
              "      <th>PAYMENTMETHOD_Credit card (automatic)</th>\n",
              "      <th>PAYMENTMETHOD_Electronic check</th>\n",
              "      <th>PAYMENTMETHOD_Mailed check</th>\n",
              "      <th>NEW_TotalServices_1</th>\n",
              "      <th>NEW_TotalServices_2</th>\n",
              "      <th>NEW_TotalServices_3</th>\n",
              "      <th>NEW_TotalServices_4</th>\n",
              "      <th>NEW_TotalServices_5</th>\n",
              "      <th>NEW_TotalServices_6</th>\n",
              "      <th>NEW_TotalServices_7</th>\n",
              "    </tr>\n",
              "  </thead>\n",
              "  <tbody>\n",
              "    <tr>\n",
              "      <th>0</th>\n",
              "      <td>7590-VHVEG</td>\n",
              "      <td>0</td>\n",
              "      <td>0</td>\n",
              "      <td>1</td>\n",
              "      <td>0</td>\n",
              "      <td>1</td>\n",
              "      <td>0</td>\n",
              "      <td>1</td>\n",
              "      <td>29.85</td>\n",
              "      <td>29.85</td>\n",
              "      <td>0</td>\n",
              "      <td>14.9250</td>\n",
              "      <td>1</td>\n",
              "      <td>0</td>\n",
              "      <td>0</td>\n",
              "      <td>0</td>\n",
              "      <td>0</td>\n",
              "      <td>0</td>\n",
              "      <td>0</td>\n",
              "      <td>1</td>\n",
              "      <td>0</td>\n",
              "      <td>0</td>\n",
              "      <td>0</td>\n",
              "      <td>0</td>\n",
              "      <td>0</td>\n",
              "      <td>0</td>\n",
              "      <td>0</td>\n",
              "      <td>0</td>\n",
              "      <td>0</td>\n",
              "      <td>0</td>\n",
              "      <td>0</td>\n",
              "      <td>1</td>\n",
              "      <td>0</td>\n",
              "      <td>1</td>\n",
              "      <td>0</td>\n",
              "      <td>0</td>\n",
              "      <td>0</td>\n",
              "      <td>0</td>\n",
              "      <td>0</td>\n",
              "      <td>0</td>\n",
              "    </tr>\n",
              "    <tr>\n",
              "      <th>1</th>\n",
              "      <td>5575-GNVDE</td>\n",
              "      <td>1</td>\n",
              "      <td>0</td>\n",
              "      <td>0</td>\n",
              "      <td>0</td>\n",
              "      <td>34</td>\n",
              "      <td>1</td>\n",
              "      <td>0</td>\n",
              "      <td>56.95</td>\n",
              "      <td>1889.50</td>\n",
              "      <td>0</td>\n",
              "      <td>14.2375</td>\n",
              "      <td>0</td>\n",
              "      <td>0</td>\n",
              "      <td>0</td>\n",
              "      <td>0</td>\n",
              "      <td>0</td>\n",
              "      <td>1</td>\n",
              "      <td>0</td>\n",
              "      <td>0</td>\n",
              "      <td>0</td>\n",
              "      <td>1</td>\n",
              "      <td>0</td>\n",
              "      <td>0</td>\n",
              "      <td>0</td>\n",
              "      <td>0</td>\n",
              "      <td>0</td>\n",
              "      <td>0</td>\n",
              "      <td>1</td>\n",
              "      <td>0</td>\n",
              "      <td>0</td>\n",
              "      <td>0</td>\n",
              "      <td>1</td>\n",
              "      <td>0</td>\n",
              "      <td>0</td>\n",
              "      <td>1</td>\n",
              "      <td>0</td>\n",
              "      <td>0</td>\n",
              "      <td>0</td>\n",
              "      <td>0</td>\n",
              "    </tr>\n",
              "  </tbody>\n",
              "</table>\n",
              "</div>\n",
              "      <button class=\"colab-df-convert\" onclick=\"convertToInteractive('df-ca268db2-acf1-4f1f-b37e-15afce00dd8f')\"\n",
              "              title=\"Convert this dataframe to an interactive table.\"\n",
              "              style=\"display:none;\">\n",
              "        \n",
              "  <svg xmlns=\"http://www.w3.org/2000/svg\" height=\"24px\"viewBox=\"0 0 24 24\"\n",
              "       width=\"24px\">\n",
              "    <path d=\"M0 0h24v24H0V0z\" fill=\"none\"/>\n",
              "    <path d=\"M18.56 5.44l.94 2.06.94-2.06 2.06-.94-2.06-.94-.94-2.06-.94 2.06-2.06.94zm-11 1L8.5 8.5l.94-2.06 2.06-.94-2.06-.94L8.5 2.5l-.94 2.06-2.06.94zm10 10l.94 2.06.94-2.06 2.06-.94-2.06-.94-.94-2.06-.94 2.06-2.06.94z\"/><path d=\"M17.41 7.96l-1.37-1.37c-.4-.4-.92-.59-1.43-.59-.52 0-1.04.2-1.43.59L10.3 9.45l-7.72 7.72c-.78.78-.78 2.05 0 2.83L4 21.41c.39.39.9.59 1.41.59.51 0 1.02-.2 1.41-.59l7.78-7.78 2.81-2.81c.8-.78.8-2.07 0-2.86zM5.41 20L4 18.59l7.72-7.72 1.47 1.35L5.41 20z\"/>\n",
              "  </svg>\n",
              "      </button>\n",
              "      \n",
              "  <style>\n",
              "    .colab-df-container {\n",
              "      display:flex;\n",
              "      flex-wrap:wrap;\n",
              "      gap: 12px;\n",
              "    }\n",
              "\n",
              "    .colab-df-convert {\n",
              "      background-color: #E8F0FE;\n",
              "      border: none;\n",
              "      border-radius: 50%;\n",
              "      cursor: pointer;\n",
              "      display: none;\n",
              "      fill: #1967D2;\n",
              "      height: 32px;\n",
              "      padding: 0 0 0 0;\n",
              "      width: 32px;\n",
              "    }\n",
              "\n",
              "    .colab-df-convert:hover {\n",
              "      background-color: #E2EBFA;\n",
              "      box-shadow: 0px 1px 2px rgba(60, 64, 67, 0.3), 0px 1px 3px 1px rgba(60, 64, 67, 0.15);\n",
              "      fill: #174EA6;\n",
              "    }\n",
              "\n",
              "    [theme=dark] .colab-df-convert {\n",
              "      background-color: #3B4455;\n",
              "      fill: #D2E3FC;\n",
              "    }\n",
              "\n",
              "    [theme=dark] .colab-df-convert:hover {\n",
              "      background-color: #434B5C;\n",
              "      box-shadow: 0px 1px 3px 1px rgba(0, 0, 0, 0.15);\n",
              "      filter: drop-shadow(0px 1px 2px rgba(0, 0, 0, 0.3));\n",
              "      fill: #FFFFFF;\n",
              "    }\n",
              "  </style>\n",
              "\n",
              "      <script>\n",
              "        const buttonEl =\n",
              "          document.querySelector('#df-ca268db2-acf1-4f1f-b37e-15afce00dd8f button.colab-df-convert');\n",
              "        buttonEl.style.display =\n",
              "          google.colab.kernel.accessAllowed ? 'block' : 'none';\n",
              "\n",
              "        async function convertToInteractive(key) {\n",
              "          const element = document.querySelector('#df-ca268db2-acf1-4f1f-b37e-15afce00dd8f');\n",
              "          const dataTable =\n",
              "            await google.colab.kernel.invokeFunction('convertToInteractive',\n",
              "                                                     [key], {});\n",
              "          if (!dataTable) return;\n",
              "\n",
              "          const docLinkHtml = 'Like what you see? Visit the ' +\n",
              "            '<a target=\"_blank\" href=https://colab.research.google.com/notebooks/data_table.ipynb>data table notebook</a>'\n",
              "            + ' to learn more about interactive tables.';\n",
              "          element.innerHTML = '';\n",
              "          dataTable['output_type'] = 'display_data';\n",
              "          await google.colab.output.renderOutput(dataTable, element);\n",
              "          const docLink = document.createElement('div');\n",
              "          docLink.innerHTML = docLinkHtml;\n",
              "          element.appendChild(docLink);\n",
              "        }\n",
              "      </script>\n",
              "    </div>\n",
              "  </div>\n",
              "  "
            ],
            "text/plain": [
              "   CUSTOMERID  GENDER  ...  NEW_TotalServices_6  NEW_TotalServices_7\n",
              "0  7590-VHVEG       0  ...                    0                    0\n",
              "1  5575-GNVDE       1  ...                    0                    0\n",
              "\n",
              "[2 rows x 40 columns]"
            ]
          },
          "metadata": {},
          "execution_count": 38
        }
      ]
    },
    {
      "cell_type": "code",
      "source": [
        "# num variables\n",
        "num_cols"
      ],
      "metadata": {
        "colab": {
          "base_uri": "https://localhost:8080/"
        },
        "id": "Keb6rLUc94St",
        "outputId": "db671fca-4a09-4c71-eaef-c6cbf0f9735b"
      },
      "execution_count": null,
      "outputs": [
        {
          "output_type": "execute_result",
          "data": {
            "text/plain": [
              "['TENURE', 'MONTHLYCHARGES', 'TOTALCHARGES']"
            ]
          },
          "metadata": {},
          "execution_count": 85
        }
      ]
    },
    {
      "cell_type": "code",
      "source": [
        "cat_cols, num_cols, cat_but_car = grab_col_names(df_study)  # Nümerik değişkenler\n",
        "num_cols"
      ],
      "metadata": {
        "colab": {
          "base_uri": "https://localhost:8080/"
        },
        "id": "4ddsdYEN-Ckx",
        "outputId": "c804fb4c-c244-4db0-f99e-8f100198d72d"
      },
      "execution_count": 39,
      "outputs": [
        {
          "output_type": "execute_result",
          "data": {
            "text/plain": [
              "['TENURE', 'MONTHLYCHARGES', 'TOTALCHARGES', 'NEW_AVG_Service_Fee']"
            ]
          },
          "metadata": {},
          "execution_count": 39
        }
      ]
    },
    {
      "cell_type": "code",
      "source": [
        "scaler = StandardScaler()\n",
        "df_study[num_cols] = scaler.fit_transform(df_study[num_cols])"
      ],
      "metadata": {
        "id": "nU0FPqiE-IZa"
      },
      "execution_count": 40,
      "outputs": []
    },
    {
      "cell_type": "code",
      "source": [
        "df_study[num_cols].head()"
      ],
      "metadata": {
        "colab": {
          "base_uri": "https://localhost:8080/",
          "height": 206
        },
        "id": "v4a_uUB7-MZ_",
        "outputId": "cf112ce1-88a5-47dc-a500-f7749fd86b1a"
      },
      "execution_count": 41,
      "outputs": [
        {
          "output_type": "execute_result",
          "data": {
            "text/html": [
              "\n",
              "  <div id=\"df-5b3e265a-d126-406e-bc1e-340170536726\">\n",
              "    <div class=\"colab-df-container\">\n",
              "      <div>\n",
              "<style scoped>\n",
              "    .dataframe tbody tr th:only-of-type {\n",
              "        vertical-align: middle;\n",
              "    }\n",
              "\n",
              "    .dataframe tbody tr th {\n",
              "        vertical-align: top;\n",
              "    }\n",
              "\n",
              "    .dataframe thead th {\n",
              "        text-align: right;\n",
              "    }\n",
              "</style>\n",
              "<table border=\"1\" class=\"dataframe\">\n",
              "  <thead>\n",
              "    <tr style=\"text-align: right;\">\n",
              "      <th></th>\n",
              "      <th>TENURE</th>\n",
              "      <th>MONTHLYCHARGES</th>\n",
              "      <th>TOTALCHARGES</th>\n",
              "      <th>NEW_AVG_Service_Fee</th>\n",
              "    </tr>\n",
              "  </thead>\n",
              "  <tbody>\n",
              "    <tr>\n",
              "      <th>0</th>\n",
              "      <td>-1.131902</td>\n",
              "      <td>-0.968941</td>\n",
              "      <td>-1.045186</td>\n",
              "      <td>-0.320471</td>\n",
              "    </tr>\n",
              "    <tr>\n",
              "      <th>1</th>\n",
              "      <td>0.451502</td>\n",
              "      <td>0.004787</td>\n",
              "      <td>0.456800</td>\n",
              "      <td>-0.412062</td>\n",
              "    </tr>\n",
              "    <tr>\n",
              "      <th>2</th>\n",
              "      <td>-1.083920</td>\n",
              "      <td>-0.106599</td>\n",
              "      <td>-0.981946</td>\n",
              "      <td>-0.515309</td>\n",
              "    </tr>\n",
              "    <tr>\n",
              "      <th>3</th>\n",
              "      <td>0.979304</td>\n",
              "      <td>-0.521601</td>\n",
              "      <td>0.417426</td>\n",
              "      <td>-0.899991</td>\n",
              "    </tr>\n",
              "    <tr>\n",
              "      <th>4</th>\n",
              "      <td>-1.083920</td>\n",
              "      <td>0.498837</td>\n",
              "      <td>-0.946812</td>\n",
              "      <td>2.400611</td>\n",
              "    </tr>\n",
              "  </tbody>\n",
              "</table>\n",
              "</div>\n",
              "      <button class=\"colab-df-convert\" onclick=\"convertToInteractive('df-5b3e265a-d126-406e-bc1e-340170536726')\"\n",
              "              title=\"Convert this dataframe to an interactive table.\"\n",
              "              style=\"display:none;\">\n",
              "        \n",
              "  <svg xmlns=\"http://www.w3.org/2000/svg\" height=\"24px\"viewBox=\"0 0 24 24\"\n",
              "       width=\"24px\">\n",
              "    <path d=\"M0 0h24v24H0V0z\" fill=\"none\"/>\n",
              "    <path d=\"M18.56 5.44l.94 2.06.94-2.06 2.06-.94-2.06-.94-.94-2.06-.94 2.06-2.06.94zm-11 1L8.5 8.5l.94-2.06 2.06-.94-2.06-.94L8.5 2.5l-.94 2.06-2.06.94zm10 10l.94 2.06.94-2.06 2.06-.94-2.06-.94-.94-2.06-.94 2.06-2.06.94z\"/><path d=\"M17.41 7.96l-1.37-1.37c-.4-.4-.92-.59-1.43-.59-.52 0-1.04.2-1.43.59L10.3 9.45l-7.72 7.72c-.78.78-.78 2.05 0 2.83L4 21.41c.39.39.9.59 1.41.59.51 0 1.02-.2 1.41-.59l7.78-7.78 2.81-2.81c.8-.78.8-2.07 0-2.86zM5.41 20L4 18.59l7.72-7.72 1.47 1.35L5.41 20z\"/>\n",
              "  </svg>\n",
              "      </button>\n",
              "      \n",
              "  <style>\n",
              "    .colab-df-container {\n",
              "      display:flex;\n",
              "      flex-wrap:wrap;\n",
              "      gap: 12px;\n",
              "    }\n",
              "\n",
              "    .colab-df-convert {\n",
              "      background-color: #E8F0FE;\n",
              "      border: none;\n",
              "      border-radius: 50%;\n",
              "      cursor: pointer;\n",
              "      display: none;\n",
              "      fill: #1967D2;\n",
              "      height: 32px;\n",
              "      padding: 0 0 0 0;\n",
              "      width: 32px;\n",
              "    }\n",
              "\n",
              "    .colab-df-convert:hover {\n",
              "      background-color: #E2EBFA;\n",
              "      box-shadow: 0px 1px 2px rgba(60, 64, 67, 0.3), 0px 1px 3px 1px rgba(60, 64, 67, 0.15);\n",
              "      fill: #174EA6;\n",
              "    }\n",
              "\n",
              "    [theme=dark] .colab-df-convert {\n",
              "      background-color: #3B4455;\n",
              "      fill: #D2E3FC;\n",
              "    }\n",
              "\n",
              "    [theme=dark] .colab-df-convert:hover {\n",
              "      background-color: #434B5C;\n",
              "      box-shadow: 0px 1px 3px 1px rgba(0, 0, 0, 0.15);\n",
              "      filter: drop-shadow(0px 1px 2px rgba(0, 0, 0, 0.3));\n",
              "      fill: #FFFFFF;\n",
              "    }\n",
              "  </style>\n",
              "\n",
              "      <script>\n",
              "        const buttonEl =\n",
              "          document.querySelector('#df-5b3e265a-d126-406e-bc1e-340170536726 button.colab-df-convert');\n",
              "        buttonEl.style.display =\n",
              "          google.colab.kernel.accessAllowed ? 'block' : 'none';\n",
              "\n",
              "        async function convertToInteractive(key) {\n",
              "          const element = document.querySelector('#df-5b3e265a-d126-406e-bc1e-340170536726');\n",
              "          const dataTable =\n",
              "            await google.colab.kernel.invokeFunction('convertToInteractive',\n",
              "                                                     [key], {});\n",
              "          if (!dataTable) return;\n",
              "\n",
              "          const docLinkHtml = 'Like what you see? Visit the ' +\n",
              "            '<a target=\"_blank\" href=https://colab.research.google.com/notebooks/data_table.ipynb>data table notebook</a>'\n",
              "            + ' to learn more about interactive tables.';\n",
              "          element.innerHTML = '';\n",
              "          dataTable['output_type'] = 'display_data';\n",
              "          await google.colab.output.renderOutput(dataTable, element);\n",
              "          const docLink = document.createElement('div');\n",
              "          docLink.innerHTML = docLinkHtml;\n",
              "          element.appendChild(docLink);\n",
              "        }\n",
              "      </script>\n",
              "    </div>\n",
              "  </div>\n",
              "  "
            ],
            "text/plain": [
              "     TENURE  MONTHLYCHARGES  TOTALCHARGES  NEW_AVG_Service_Fee\n",
              "0 -1.131902       -0.968941     -1.045186            -0.320471\n",
              "1  0.451502        0.004787      0.456800            -0.412062\n",
              "2 -1.083920       -0.106599     -0.981946            -0.515309\n",
              "3  0.979304       -0.521601      0.417426            -0.899991\n",
              "4 -1.083920        0.498837     -0.946812             2.400611"
            ]
          },
          "metadata": {},
          "execution_count": 41
        }
      ]
    },
    {
      "cell_type": "markdown",
      "source": [
        "#Build models"
      ],
      "metadata": {
        "id": "3b2Mit7u-bnm"
      }
    },
    {
      "cell_type": "code",
      "source": [
        "df_study.drop(\"CUSTOMERID\", inplace=True, axis=1)"
      ],
      "metadata": {
        "id": "6tzXEYyS-YNW"
      },
      "execution_count": 45,
      "outputs": []
    },
    {
      "cell_type": "code",
      "source": [
        "y = df_study[\"CHURN\"]\n",
        "X = df_study.drop([\"CHURN\"], axis=1)"
      ],
      "metadata": {
        "id": "B0HdDG8L-j2Y"
      },
      "execution_count": null,
      "outputs": []
    },
    {
      "cell_type": "code",
      "source": [
        "X_train, X_test, y_train, y_test = train_test_split(X, y, test_size=0.30, random_state=17)"
      ],
      "metadata": {
        "id": "yTAyNWyA-vcn"
      },
      "execution_count": null,
      "outputs": []
    },
    {
      "cell_type": "code",
      "source": [
        "X_train.shape, X_test.shape, y_train.shape, y_test.shape"
      ],
      "metadata": {
        "colab": {
          "base_uri": "https://localhost:8080/"
        },
        "id": "vLhXAtox-2Ui",
        "outputId": "4e504f3d-179c-41c5-890d-b40eecd89577"
      },
      "execution_count": null,
      "outputs": [
        {
          "output_type": "execute_result",
          "data": {
            "text/plain": [
              "((3943, 38), (1691, 38), (3943,), (1691,))"
            ]
          },
          "metadata": {},
          "execution_count": 118
        }
      ]
    },
    {
      "cell_type": "markdown",
      "source": [
        "Catboost Model"
      ],
      "metadata": {
        "id": "bjCpMZwZ_BLx"
      }
    },
    {
      "cell_type": "code",
      "source": [
        "catboost_model = CatBoostClassifier(verbose=False, random_state=42).fit(X_train, y_train)\n",
        "y_pred = catboost_model.predict(X_test)"
      ],
      "metadata": {
        "id": "lLOxegtc-8cR"
      },
      "execution_count": null,
      "outputs": []
    },
    {
      "cell_type": "code",
      "source": [
        "def plot_feature_importance(importance,names,model_type):\n",
        "    feature_importance = np.array(importance)\n",
        "    feature_names = np.array(names)\n",
        "    \n",
        "    data = {'feature_names': feature_names, 'feature_importance': feature_importance}\n",
        "    fi_df = pd.DataFrame(data)\n",
        "    fi_df.sort_values(by=['feature_importance'], ascending=False, inplace=True)\n",
        "    \n",
        "    plt.figure(figsize=(20, 18))\n",
        "    sns.barplot(x=fi_df['feature_importance'], y=fi_df['feature_names'])\n",
        "    plt.title(model_type + ' FEATURE IMPORTANCE')\n",
        "    plt.xlabel('FEATURE IMPORTANCE')\n",
        "    plt.ylabel('FEATURE NAMES')\n",
        "    plt.show()"
      ],
      "metadata": {
        "id": "GBpiYtIJAFah"
      },
      "execution_count": null,
      "outputs": []
    },
    {
      "cell_type": "code",
      "source": [
        "plot_feature_importance(catboost_model.get_feature_importance(), X.columns, 'CATBOOST')"
      ],
      "metadata": {
        "colab": {
          "base_uri": "https://localhost:8080/",
          "height": 1000
        },
        "id": "cADjlEqwAX7G",
        "outputId": "c74fe6cf-c7fd-4df2-a2c5-dc8f1e76df41"
      },
      "execution_count": null,
      "outputs": [
        {
          "output_type": "display_data",
          "data": {
            "image/png": "[encoded data removed]",
            "text/plain": [
              "<Figure size 1440x1296 with 1 Axes>"
            ]
          },
          "metadata": {}
        }
      ]
    },
    {
      "cell_type": "code",
      "source": [
        "X=X.iloc[:,[4,7,8,9,12,13,26,27]]"
      ],
      "metadata": {
        "id": "_urxZpD6TDME"
      },
      "execution_count": null,
      "outputs": []
    },
    {
      "cell_type": "code",
      "source": [
        "X.info()"
      ],
      "metadata": {
        "colab": {
          "base_uri": "https://localhost:8080/"
        },
        "id": "V9Hgd9GQS7tq",
        "outputId": "130868f5-e8de-4db5-fab4-d6f1ab6c1e65"
      },
      "execution_count": null,
      "outputs": [
        {
          "output_type": "stream",
          "name": "stdout",
          "text": [
            "<class 'pandas.core.frame.DataFrame'>\n",
            "Int64Index: 5634 entries, 0 to 7041\n",
            "Data columns (total 8 columns):\n",
            " #   Column                       Non-Null Count  Dtype  \n",
            "---  ------                       --------------  -----  \n",
            " 0   TENURE                       5634 non-null   float64\n",
            " 1   MONTHLYCHARGES               5634 non-null   float64\n",
            " 2   TOTALCHARGES                 5634 non-null   float64\n",
            " 3   NEW_AVG_Service_Fee          5634 non-null   float64\n",
            " 4   INTERNETSERVICE_Fiber optic  5634 non-null   uint8  \n",
            " 5   INTERNETSERVICE_No           5634 non-null   uint8  \n",
            " 6   CONTRACT_One year            5634 non-null   uint8  \n",
            " 7   CONTRACT_Two year            5634 non-null   uint8  \n",
            "dtypes: float64(4), uint8(4)\n",
            "memory usage: 242.1 KB\n"
          ]
        }
      ]
    },
    {
      "cell_type": "markdown",
      "source": [
        " Making ANN"
      ],
      "metadata": {
        "id": "FmroJb5qA9NH"
      }
    },
    {
      "cell_type": "code",
      "source": [
        "# Importing Keras\n",
        "import tensorflow as tf\n",
        "from tensorflow import keras\n",
        "from tensorflow.keras import layers\n",
        "from tensorflow.keras.models import Sequential\n",
        "from tensorflow.keras.optimizers import Adam\n",
        "from keras.layers import Dense, Dropout"
      ],
      "metadata": {
        "id": "Urb2p93uAv3A"
      },
      "execution_count": 93,
      "outputs": []
    },
    {
      "cell_type": "code",
      "source": [
        "le =  LabelEncoder()\n",
        "y_le = le.fit_transform(y) \n",
        "y_le"
      ],
      "metadata": {
        "colab": {
          "base_uri": "https://localhost:8080/"
        },
        "id": "eoZjgrA0ERW4",
        "outputId": "cfe0f134-6140-43b7-f475-ef776999a7b5"
      },
      "execution_count": null,
      "outputs": [
        {
          "output_type": "execute_result",
          "data": {
            "text/plain": [
              "array([0, 0, 1, ..., 0, 0, 1])"
            ]
          },
          "metadata": {},
          "execution_count": 151
        }
      ]
    },
    {
      "cell_type": "code",
      "source": [
        "#target into one hot encoding\n",
        "y_ohe = pd.get_dummies(y_le).values\n",
        "y_ohe"
      ],
      "metadata": {
        "colab": {
          "base_uri": "https://localhost:8080/"
        },
        "id": "BTlUrh93ERw5",
        "outputId": "7cb1fc8a-7fec-47a9-e300-56eef75b848c"
      },
      "execution_count": null,
      "outputs": [
        {
          "output_type": "execute_result",
          "data": {
            "text/plain": [
              "array([[1, 0],\n",
              "       [1, 0],\n",
              "       [0, 1],\n",
              "       ...,\n",
              "       [1, 0],\n",
              "       [1, 0],\n",
              "       [0, 1]], dtype=uint8)"
            ]
          },
          "metadata": {},
          "execution_count": 152
        }
      ]
    },
    {
      "cell_type": "code",
      "source": [
        "X_train, X_test, y_train, y_test = train_test_split(X, y_ohe, test_size=0.30, random_state=17)\n",
        "X_train.shape, X_test.shape, y_train.shape, y_test.shape"
      ],
      "metadata": {
        "colab": {
          "base_uri": "https://localhost:8080/"
        },
        "id": "Ptz4BbHmEUzE",
        "outputId": "b3cd9500-5c31-4302-a682-a892fc9be551"
      },
      "execution_count": null,
      "outputs": [
        {
          "output_type": "execute_result",
          "data": {
            "text/plain": [
              "((3943, 8), (1691, 8), (3943, 2), (1691, 2))"
            ]
          },
          "metadata": {},
          "execution_count": 153
        }
      ]
    },
    {
      "cell_type": "code",
      "source": [
        "model = Sequential()\n",
        "\n",
        "model.add(layers.Dense(19, activation=\"relu\", name=\"layer1\",input_shape=(38,)))\n",
        "model.add(layers.Dense(19, activation=\"relu\", name=\"layer2\"))\n",
        "model.add(layers.Dense(2, activation=\"softmax\", name=\"outputs\"))"
      ],
      "metadata": {
        "id": "gNE6u7krDVdR"
      },
      "execution_count": null,
      "outputs": []
    },
    {
      "cell_type": "code",
      "source": [
        "# Adam optimizer with learning rate of 0.001\n",
        "optimizer = Adam(lr=0.001)\n",
        "model.compile(optimizer, loss='categorical_crossentropy', metrics=['accuracy'])\n",
        "\n",
        "# Train the model\n",
        "model.fit(X_train, y_train, verbose=1, batch_size=5, epochs=50)"
      ],
      "metadata": {
        "colab": {
          "base_uri": "https://localhost:8080/"
        },
        "id": "7ATibIMGDjaR",
        "outputId": "f6309479-e19b-47bc-bf74-ce5545936eda"
      },
      "execution_count": null,
      "outputs": [
        {
          "output_type": "stream",
          "name": "stderr",
          "text": [
            "/usr/local/lib/python3.7/dist-packages/keras/optimizer_v2/adam.py:105: UserWarning: The `lr` argument is deprecated, use `learning_rate` instead.\n",
            "  super(Adam, self).__init__(name, **kwargs)\n"
          ]
        },
        {
          "output_type": "stream",
          "name": "stdout",
          "text": [
            "Epoch 1/50\n",
            "789/789 [==============================] - 4s 4ms/step - loss: 0.5314 - accuracy: 0.7190\n",
            "Epoch 2/50\n",
            "789/789 [==============================] - 3s 4ms/step - loss: 0.4439 - accuracy: 0.7768\n",
            "Epoch 3/50\n",
            "789/789 [==============================] - 3s 4ms/step - loss: 0.4398 - accuracy: 0.7763\n",
            "Epoch 4/50\n",
            "789/789 [==============================] - 3s 4ms/step - loss: 0.4388 - accuracy: 0.7804\n",
            "Epoch 5/50\n",
            "789/789 [==============================] - 3s 4ms/step - loss: 0.4370 - accuracy: 0.7839\n",
            "Epoch 6/50\n",
            "789/789 [==============================] - 3s 4ms/step - loss: 0.4371 - accuracy: 0.7844\n",
            "Epoch 7/50\n",
            "789/789 [==============================] - 3s 4ms/step - loss: 0.4357 - accuracy: 0.7867\n",
            "Epoch 8/50\n",
            "789/789 [==============================] - 3s 4ms/step - loss: 0.4357 - accuracy: 0.7847\n",
            "Epoch 9/50\n",
            "789/789 [==============================] - 3s 4ms/step - loss: 0.4350 - accuracy: 0.7834\n",
            "Epoch 10/50\n",
            "789/789 [==============================] - 3s 4ms/step - loss: 0.4352 - accuracy: 0.7862\n",
            "Epoch 11/50\n",
            "789/789 [==============================] - 3s 4ms/step - loss: 0.4348 - accuracy: 0.7847\n",
            "Epoch 12/50\n",
            "789/789 [==============================] - 3s 4ms/step - loss: 0.4349 - accuracy: 0.7844\n",
            "Epoch 13/50\n",
            "789/789 [==============================] - 3s 4ms/step - loss: 0.4344 - accuracy: 0.7829\n",
            "Epoch 14/50\n",
            "789/789 [==============================] - 3s 4ms/step - loss: 0.4335 - accuracy: 0.7844\n",
            "Epoch 15/50\n",
            "789/789 [==============================] - 3s 4ms/step - loss: 0.4338 - accuracy: 0.7859\n",
            "Epoch 16/50\n",
            "789/789 [==============================] - 3s 4ms/step - loss: 0.4334 - accuracy: 0.7844\n",
            "Epoch 17/50\n",
            "789/789 [==============================] - 3s 4ms/step - loss: 0.4340 - accuracy: 0.7814\n",
            "Epoch 18/50\n",
            "789/789 [==============================] - 3s 4ms/step - loss: 0.4330 - accuracy: 0.7847\n",
            "Epoch 19/50\n",
            "789/789 [==============================] - 3s 4ms/step - loss: 0.4333 - accuracy: 0.7834\n",
            "Epoch 20/50\n",
            "789/789 [==============================] - 3s 4ms/step - loss: 0.4335 - accuracy: 0.7804\n",
            "Epoch 21/50\n",
            "789/789 [==============================] - 3s 4ms/step - loss: 0.4333 - accuracy: 0.7857\n",
            "Epoch 22/50\n",
            "789/789 [==============================] - 3s 4ms/step - loss: 0.4333 - accuracy: 0.7857\n",
            "Epoch 23/50\n",
            "789/789 [==============================] - 3s 4ms/step - loss: 0.4327 - accuracy: 0.7827\n",
            "Epoch 24/50\n",
            "789/789 [==============================] - 3s 4ms/step - loss: 0.4326 - accuracy: 0.7837\n",
            "Epoch 25/50\n",
            "789/789 [==============================] - 3s 4ms/step - loss: 0.4330 - accuracy: 0.7827\n",
            "Epoch 26/50\n",
            "789/789 [==============================] - 3s 4ms/step - loss: 0.4319 - accuracy: 0.7827\n",
            "Epoch 27/50\n",
            "789/789 [==============================] - 3s 4ms/step - loss: 0.4325 - accuracy: 0.7811\n",
            "Epoch 28/50\n",
            "789/789 [==============================] - 3s 4ms/step - loss: 0.4322 - accuracy: 0.7870\n",
            "Epoch 29/50\n",
            "789/789 [==============================] - 3s 4ms/step - loss: 0.4327 - accuracy: 0.7821\n",
            "Epoch 30/50\n",
            "789/789 [==============================] - 3s 4ms/step - loss: 0.4316 - accuracy: 0.7847\n",
            "Epoch 31/50\n",
            "789/789 [==============================] - 3s 4ms/step - loss: 0.4327 - accuracy: 0.7839\n",
            "Epoch 32/50\n",
            "789/789 [==============================] - 3s 4ms/step - loss: 0.4320 - accuracy: 0.7852\n",
            "Epoch 33/50\n",
            "789/789 [==============================] - 3s 4ms/step - loss: 0.4323 - accuracy: 0.7842\n",
            "Epoch 34/50\n",
            "789/789 [==============================] - 3s 4ms/step - loss: 0.4316 - accuracy: 0.7870\n",
            "Epoch 35/50\n",
            "789/789 [==============================] - 3s 4ms/step - loss: 0.4319 - accuracy: 0.7839\n",
            "Epoch 36/50\n",
            "789/789 [==============================] - 3s 4ms/step - loss: 0.4317 - accuracy: 0.7806\n",
            "Epoch 37/50\n",
            "789/789 [==============================] - 3s 4ms/step - loss: 0.4312 - accuracy: 0.7816\n",
            "Epoch 38/50\n",
            "789/789 [==============================] - 3s 4ms/step - loss: 0.4301 - accuracy: 0.7837\n",
            "Epoch 39/50\n",
            "789/789 [==============================] - 3s 4ms/step - loss: 0.4309 - accuracy: 0.7844\n",
            "Epoch 40/50\n",
            "789/789 [==============================] - 3s 4ms/step - loss: 0.4309 - accuracy: 0.7875\n",
            "Epoch 41/50\n",
            "789/789 [==============================] - 3s 4ms/step - loss: 0.4312 - accuracy: 0.7877\n",
            "Epoch 42/50\n",
            "789/789 [==============================] - 3s 4ms/step - loss: 0.4310 - accuracy: 0.7824\n",
            "Epoch 43/50\n",
            "789/789 [==============================] - 3s 4ms/step - loss: 0.4305 - accuracy: 0.7834\n",
            "Epoch 44/50\n",
            "789/789 [==============================] - 3s 4ms/step - loss: 0.4308 - accuracy: 0.7829\n",
            "Epoch 45/50\n",
            "789/789 [==============================] - 3s 4ms/step - loss: 0.4304 - accuracy: 0.7859\n",
            "Epoch 46/50\n",
            "789/789 [==============================] - 3s 4ms/step - loss: 0.4309 - accuracy: 0.7827\n",
            "Epoch 47/50\n",
            "789/789 [==============================] - 3s 4ms/step - loss: 0.4305 - accuracy: 0.7880\n",
            "Epoch 48/50\n",
            "789/789 [==============================] - 3s 4ms/step - loss: 0.4306 - accuracy: 0.7857\n",
            "Epoch 49/50\n",
            "789/789 [==============================] - 3s 4ms/step - loss: 0.4304 - accuracy: 0.7859\n",
            "Epoch 50/50\n",
            "789/789 [==============================] - 3s 4ms/step - loss: 0.4305 - accuracy: 0.7837\n"
          ]
        },
        {
          "output_type": "execute_result",
          "data": {
            "text/plain": [
              "<keras.callbacks.History at 0x7f5b884ee490>"
            ]
          },
          "metadata": {},
          "execution_count": 155
        }
      ]
    },
    {
      "cell_type": "code",
      "source": [
        "results = model.evaluate(X_test, y_test)\n",
        "\n",
        "print('Final test set loss: {:4f}'.format(results[0]))\n",
        "print('Final test set accuracy: {:4f}'.format(results[1]))"
      ],
      "metadata": {
        "colab": {
          "base_uri": "https://localhost:8080/"
        },
        "id": "w7cuQVtEGzC9",
        "outputId": "0fe84b72-8ebd-4d52-c62b-85d10755606a"
      },
      "execution_count": null,
      "outputs": [
        {
          "output_type": "stream",
          "name": "stdout",
          "text": [
            "53/53 [==============================] - 0s 3ms/step - loss: 0.4627 - accuracy: 0.7540\n",
            "Final test set loss: 0.462720\n",
            "Final test set accuracy: 0.753992\n"
          ]
        }
      ]
    },
    {
      "cell_type": "code",
      "source": [
        "#Predict test data\n",
        "pred_y = model.predict(X_test)\n",
        "pred_y"
      ],
      "metadata": {
        "colab": {
          "base_uri": "https://localhost:8080/"
        },
        "id": "2dkHDukMG_rn",
        "outputId": "3cd196ed-a900-4885-d33c-6a26e817a6c3"
      },
      "execution_count": null,
      "outputs": [
        {
          "output_type": "execute_result",
          "data": {
            "text/plain": [
              "array([[0.9908358 , 0.00916416],\n",
              "       [0.5785883 , 0.42141166],\n",
              "       [0.46984962, 0.53015035],\n",
              "       ...,\n",
              "       [0.6394505 , 0.36054957],\n",
              "       [0.97996855, 0.02003142],\n",
              "       [0.2589148 , 0.74108523]], dtype=float32)"
            ]
          },
          "metadata": {},
          "execution_count": 157
        }
      ]
    },
    {
      "cell_type": "code",
      "source": [
        "# Actual and predicted value\n",
        "actual = np.argmax(y_test,axis=1)\n",
        "predicted = np.argmax(pred_y,axis=1)\n",
        "print(f\"Actual: {actual}\")\n",
        "print(f\"Predicted: {predicted}\")"
      ],
      "metadata": {
        "colab": {
          "base_uri": "https://localhost:8080/"
        },
        "id": "VKw7aJWvHDwb",
        "outputId": "bdc7e5a8-354a-4a8a-a410-7c1f52bec113"
      },
      "execution_count": null,
      "outputs": [
        {
          "output_type": "stream",
          "name": "stdout",
          "text": [
            "Actual: [0 1 0 ... 0 0 1]\n",
            "Predicted: [0 0 1 ... 0 0 1]\n"
          ]
        }
      ]
    },
    {
      "cell_type": "code",
      "source": [
        "cm = confusion_matrix(actual,predicted)\n",
        "print(classification_report(actual,predicted))"
      ],
      "metadata": {
        "colab": {
          "base_uri": "https://localhost:8080/"
        },
        "id": "j-ABpoMgHI65",
        "outputId": "51ab79db-0243-4f67-d6a6-c6eccd70cfc9"
      },
      "execution_count": null,
      "outputs": [
        {
          "output_type": "stream",
          "name": "stdout",
          "text": [
            "              precision    recall  f1-score   support\n",
            "\n",
            "           0       0.78      0.91      0.84      1169\n",
            "           1       0.66      0.41      0.51       522\n",
            "\n",
            "    accuracy                           0.75      1691\n",
            "   macro avg       0.72      0.66      0.67      1691\n",
            "weighted avg       0.74      0.75      0.73      1691\n",
            "\n"
          ]
        }
      ]
    },
    {
      "cell_type": "code",
      "source": [
        "ax= plt.subplot()\n",
        "sns.heatmap(cm, annot=True, fmt='g', ax=ax);  #annot=True to annotate cells, ftm='g' to disable scientific notation\n",
        "\n",
        "# labels, title and ticks\n",
        "ax.set_xlabel('Predicted labels');ax.set_ylabel('True labels'); \n",
        "ax.set_title('Confusion Matrix'); \n",
        "ax.xaxis.set_ticklabels(['No churn', 'Churn']); ax.yaxis.set_ticklabels(['No churn', 'Churn']);"
      ],
      "metadata": {
        "colab": {
          "base_uri": "https://localhost:8080/",
          "height": 301
        },
        "id": "iXUev7T3HL-r",
        "outputId": "0348fb55-2e65-45db-babc-c85084d43b81"
      },
      "execution_count": null,
      "outputs": [
        {
          "output_type": "display_data",
          "data": {
            "image/png": "[encoded data removed]",
            "text/plain": [
              "<Figure size 432x288 with 2 Axes>"
            ]
          },
          "metadata": {}
        }
      ]
    },
    {
      "cell_type": "code",
      "source": [
        "# Initialising the ANN\n",
        "classifier = Sequential()"
      ],
      "metadata": {
        "id": "hxVjLD__HZGL"
      },
      "execution_count": null,
      "outputs": []
    },
    {
      "cell_type": "code",
      "source": [
        "classifier = Sequential()\n",
        "# Adding the input layer and the first hidden layer\n",
        "classifier.add(Dense(units = 19, kernel_initializer = 'uniform', activation = 'relu', input_dim = 38))\n",
        "\n",
        "# Adding the second hidden layer\n",
        "classifier.add(Dense(units = 19, kernel_initializer = 'uniform', activation = 'relu'))\n",
        "\n",
        "# Adding the output layer\n",
        "classifier.add(Dense(units = 1, kernel_initializer = 'uniform', activation = 'sigmoid'))\n",
        "\n",
        "# Compiling the ANN | means applying SGD on the whole ANN\n",
        "classifier.compile(optimizer = 'adam', loss = 'binary_crossentropy', metrics = ['accuracy'])"
      ],
      "metadata": {
        "id": "us_ynARiHm8O"
      },
      "execution_count": null,
      "outputs": []
    },
    {
      "cell_type": "code",
      "source": [
        "# Fitting the ANN to the Training set\n",
        "X_train, X_test, y_train, y_test = train_test_split(X, y, test_size=0.30, random_state=17)\n",
        "classifier.fit(X_train, y_train, batch_size = 10, epochs = 100,verbose = 0)"
      ],
      "metadata": {
        "colab": {
          "base_uri": "https://localhost:8080/"
        },
        "id": "e-UgwLmcIWkp",
        "outputId": "29d1a334-5676-444c-a989-1afda5f468dc"
      },
      "execution_count": null,
      "outputs": [
        {
          "output_type": "execute_result",
          "data": {
            "text/plain": [
              "<keras.callbacks.History at 0x7f5b9939ec50>"
            ]
          },
          "metadata": {},
          "execution_count": 135
        }
      ]
    },
    {
      "cell_type": "code",
      "source": [
        "score, acc = classifier.evaluate(X_train, y_train,\n",
        "                            batch_size=10)\n",
        "print('Train score:', score)\n",
        "print('Train accuracy:', acc)"
      ],
      "metadata": {
        "colab": {
          "base_uri": "https://localhost:8080/"
        },
        "id": "1pfubuEQJWTk",
        "outputId": "ae8a322c-9498-4d6c-b88c-ba4907ad9a2b"
      },
      "execution_count": null,
      "outputs": [
        {
          "output_type": "stream",
          "name": "stdout",
          "text": [
            "395/395 [==============================] - 2s 4ms/step - loss: 0.3595 - accuracy: 0.8313\n",
            "Train score: 0.3595401346683502\n",
            "Train accuracy: 0.8313466906547546\n"
          ]
        }
      ]
    },
    {
      "cell_type": "code",
      "source": [
        "# Predicting the Test set results\n",
        "y_pred = classifier.predict(X_test)\n",
        "y_pred = (y_pred > 0.5)"
      ],
      "metadata": {
        "id": "zFJqa8riJatI"
      },
      "execution_count": null,
      "outputs": []
    },
    {
      "cell_type": "code",
      "source": [
        "print('*'*20)\n",
        "score, acc = classifier.evaluate(X_test, y_test,\n",
        "                            batch_size=10)\n",
        "print('Test score:', score)\n",
        "print('Test accuracy:', acc)"
      ],
      "metadata": {
        "colab": {
          "base_uri": "https://localhost:8080/"
        },
        "id": "RGjfdgEGJeM5",
        "outputId": "c1d988e2-827a-4daa-8ae4-d84ce253048e"
      },
      "execution_count": null,
      "outputs": [
        {
          "output_type": "stream",
          "name": "stdout",
          "text": [
            "********************\n",
            "170/170 [==============================] - 1s 3ms/step - loss: 0.4930 - accuracy: 0.7664\n",
            "Test score: 0.4929884970188141\n",
            "Test accuracy: 0.7664104104042053\n"
          ]
        }
      ]
    },
    {
      "cell_type": "code",
      "source": [
        "from sklearn.metrics import confusion_matrix\n",
        "cm = confusion_matrix(y_test, y_pred)"
      ],
      "metadata": {
        "id": "8wV60IHUJjhb"
      },
      "execution_count": null,
      "outputs": []
    },
    {
      "cell_type": "code",
      "source": [
        "p = sns.heatmap(pd.DataFrame(cm), annot=True, cmap=\"YlGnBu\" ,fmt='g')\n",
        "plt.title('Confusion matrix', y=1.1)\n",
        "plt.ylabel('Actual label')\n",
        "plt.xlabel('Predicted label')"
      ],
      "metadata": {
        "colab": {
          "base_uri": "https://localhost:8080/",
          "height": 318
        },
        "id": "3befm18IJlvk",
        "outputId": "3b0c860e-119f-4eff-b632-84b31b0f5961"
      },
      "execution_count": null,
      "outputs": [
        {
          "output_type": "execute_result",
          "data": {
            "text/plain": [
              "Text(0.5, 12.5, 'Predicted label')"
            ]
          },
          "metadata": {},
          "execution_count": 140
        },
        {
          "output_type": "display_data",
          "data": {
            "image/png": "[encoded data removed]",
            "text/plain": [
              "<Figure size 432x288 with 2 Axes>"
            ]
          },
          "metadata": {}
        }
      ]
    },
    {
      "cell_type": "code",
      "source": [
        "#import classification_report\n",
        "print(classification_report(y_test,y_pred))"
      ],
      "metadata": {
        "colab": {
          "base_uri": "https://localhost:8080/"
        },
        "id": "EOL2NVAcLnsB",
        "outputId": "7fb340b7-fc13-4eb8-9b5c-9a4cd5738214"
      },
      "execution_count": null,
      "outputs": [
        {
          "output_type": "stream",
          "name": "stdout",
          "text": [
            "              precision    recall  f1-score   support\n",
            "\n",
            "           0       0.81      0.87      0.84      1169\n",
            "           1       0.65      0.54      0.59       522\n",
            "\n",
            "    accuracy                           0.77      1691\n",
            "   macro avg       0.73      0.70      0.71      1691\n",
            "weighted avg       0.76      0.77      0.76      1691\n",
            "\n"
          ]
        }
      ]
    },
    {
      "cell_type": "code",
      "source": [
        "# Evaluation of Multiple Training Instances\n",
        "# Evaluating the ANN\n",
        "from keras.wrappers.scikit_learn import KerasClassifier\n",
        "\n",
        "def build_classifier():\n",
        "    classifier = Sequential()\n",
        "    classifier.add(Dense(units = 19, kernel_initializer = 'uniform', activation = 'relu', input_dim = 38))\n",
        "    classifier.add(Dense(units = 19, kernel_initializer = 'uniform', activation = 'relu'))\n",
        "    classifier.add(Dense(units = 1, kernel_initializer = 'uniform', activation = 'sigmoid'))\n",
        "    classifier.compile(optimizer = 'adam', loss = 'binary_crossentropy', metrics = ['accuracy'])\n",
        "    return classifier\n",
        "classifier = KerasClassifier(build_fn = build_classifier, batch_size = 10, epochs = 100,verbose=0)\n",
        "accuracies = cross_val_score(estimator = classifier, X = X_train, y = y_train, cv = 10)\n",
        "mean = accuracies.mean()\n",
        "variance = accuracies.std()"
      ],
      "metadata": {
        "colab": {
          "base_uri": "https://localhost:8080/"
        },
        "id": "_ZlrvEpLLq5q",
        "outputId": "6b697054-ae96-4dac-c47c-e84758e67509"
      },
      "execution_count": null,
      "outputs": [
        {
          "output_type": "stream",
          "name": "stderr",
          "text": [
            "/usr/local/lib/python3.7/dist-packages/ipykernel_launcher.py:12: DeprecationWarning: KerasClassifier is deprecated, use Sci-Keras (https://github.com/adriangb/scikeras) instead.\n",
            "  if sys.path[0] == '':\n"
          ]
        }
      ]
    },
    {
      "cell_type": "code",
      "source": [
        "print('Mean accuracy score of 10 different models using Kfold cross validation: {}'.format(mean))\n",
        "print('Standard Deviation of accuracy score of 10 different models using Kfold cross validation: {}'.format(variance))"
      ],
      "metadata": {
        "colab": {
          "base_uri": "https://localhost:8080/"
        },
        "id": "K_6rC42QROnS",
        "outputId": "50ef62c2-28e3-4d10-c89c-14f8ff9e2b8e"
      },
      "execution_count": null,
      "outputs": [
        {
          "output_type": "stream",
          "name": "stdout",
          "text": [
            "Mean accuracy score of 10 different models using Kfold cross validation: 0.7778448820114136\n",
            "Standard Deviation of accuracy score of 10 different models using Kfold cross validation: 0.01798946513150859\n"
          ]
        }
      ]
    },
    {
      "cell_type": "code",
      "source": [
        "#Overfitting problem\n",
        "from keras.layers import Dropout\n",
        "classifier = Sequential()\n",
        "# Adding the input layer and the first hidden layer\n",
        "classifier.add(Dense(units = 19, kernel_initializer = 'uniform', activation = 'relu', input_dim = 38))\n",
        "classifier.add(Dropout(rate = 0.1))\n",
        "\n",
        "# Adding the second hidden layer\n",
        "classifier.add(Dense(units = 19, kernel_initializer = 'uniform', activation = 'relu'))\n",
        "classifier.add(Dropout(rate = 0.1))\n",
        "\n",
        "# Adding the output layer\n",
        "classifier.add(Dense(units = 1, kernel_initializer = 'uniform', activation = 'sigmoid'))\n",
        "\n",
        "# Compiling the ANN\n",
        "classifier.compile(optimizer = 'adam', loss = 'binary_crossentropy', metrics = ['accuracy'])\n",
        "\n",
        "# Fitting the ANN to the Training set\n",
        "classifier.fit(X_train, y_train, batch_size = 10, epochs = 100,verbose = 0)\n",
        "\n",
        "# Part 3 - Making predictions and evaluating the model\n",
        "\n",
        "score, acc = classifier.evaluate(X_train, y_train,\n",
        "                            batch_size=10)\n",
        "print('Train score:', score)\n",
        "print('Train accuracy:', acc)\n",
        "# Part 3 - Making predictions and evaluating the model\n",
        "\n",
        "# Predicting the Test set results\n",
        "y_pred = classifier.predict(X_test)\n",
        "y_pred = (y_pred > 0.5)\n",
        "\n",
        "print('*'*20)\n",
        "score, acc = classifier.evaluate(X_test, y_test,\n",
        "                            batch_size=10)\n",
        "print('Test score:', score)\n",
        "print('Test accuracy:', acc)\n",
        "\n",
        "# Making the Confusion Matrix\n",
        "from sklearn.metrics import confusion_matrix\n",
        "cm = confusion_matrix(y_test, y_pred)"
      ],
      "metadata": {
        "colab": {
          "base_uri": "https://localhost:8080/"
        },
        "id": "OdyfCL78RTtM",
        "outputId": "d732c7af-35fa-48c8-92d0-3e396de42c4a"
      },
      "execution_count": null,
      "outputs": [
        {
          "output_type": "stream",
          "name": "stdout",
          "text": [
            "395/395 [==============================] - 1s 3ms/step - loss: 0.3580 - accuracy: 0.8400\n",
            "Train score: 0.3579547703266144\n",
            "Train accuracy: 0.8399695754051208\n",
            "********************\n",
            "170/170 [==============================] - 1s 3ms/step - loss: 0.4778 - accuracy: 0.7694\n",
            "Test score: 0.4778064489364624\n",
            "Test accuracy: 0.7693672180175781\n"
          ]
        }
      ]
    },
    {
      "cell_type": "code",
      "source": [
        "p = sns.heatmap(pd.DataFrame(cm), annot=True, cmap=\"YlGnBu\" ,fmt='g')\n",
        "plt.title('Confusion matrix', y=1.1)\n",
        "plt.ylabel('Actual label')\n",
        "plt.xlabel('Predicted label')"
      ],
      "metadata": {
        "colab": {
          "base_uri": "https://localhost:8080/",
          "height": 318
        },
        "id": "yx65RaTiSinQ",
        "outputId": "04e10c4a-f7fb-453a-d4eb-cd9118ff47de"
      },
      "execution_count": null,
      "outputs": [
        {
          "output_type": "execute_result",
          "data": {
            "text/plain": [
              "Text(0.5, 12.5, 'Predicted label')"
            ]
          },
          "metadata": {},
          "execution_count": 145
        },
        {
          "output_type": "display_data",
          "data": {
            "image/png": "[encoded data removed]",
            "text/plain": [
              "<Figure size 432x288 with 2 Axes>"
            ]
          },
          "metadata": {}
        }
      ]
    },
    {
      "cell_type": "markdown",
      "source": [
        "# IMBALANCED DATA"
      ],
      "metadata": {
        "id": "KJ0eRfKDEdC9"
      }
    },
    {
      "cell_type": "code",
      "source": [
        "# class count\n",
        "class_count_0, class_count_1 = df_study['CHURN'].value_counts()\n",
        "\n",
        "# Separate class\n",
        "class_0 = df_study[df_study['CHURN'] == 0]\n",
        "class_1 = df_study[df_study['CHURN'] == 1]# print the shape of the class\n",
        "print('class 0:', class_0.shape)\n",
        "print('class 1:', class_1.shape)"
      ],
      "metadata": {
        "colab": {
          "base_uri": "https://localhost:8080/"
        },
        "id": "1Tu3uqBiEfxQ",
        "outputId": "a6517422-118c-4a71-fe4e-c9b046b5c2fc"
      },
      "execution_count": 71,
      "outputs": [
        {
          "output_type": "stream",
          "name": "stdout",
          "text": [
            "class 0: (3965, 39)\n",
            "class 1: (1669, 39)\n"
          ]
        }
      ]
    },
    {
      "cell_type": "markdown",
      "source": [
        "# Random Under Sampling"
      ],
      "metadata": {
        "id": "oR4XBEE2FKQm"
      }
    },
    {
      "cell_type": "code",
      "source": [
        "class_0_under = class_0.sample(class_count_1)\n",
        "\n",
        "test_under = pd.concat([class_0_under, class_1], axis=0)\n",
        "\n",
        "print(\"total class of 1 and0:\",test_under['CHURN'].value_counts())# plot the count after under-sampeling\n",
        "test_under['CHURN'].value_counts().plot(kind='bar', title='count (target)')"
      ],
      "metadata": {
        "colab": {
          "base_uri": "https://localhost:8080/",
          "height": 347
        },
        "id": "U-XOHUJIFJN0",
        "outputId": "c7c0540f-6f34-4a25-cc17-967007fe1967"
      },
      "execution_count": 72,
      "outputs": [
        {
          "output_type": "stream",
          "name": "stdout",
          "text": [
            "total class of 1 and0: 1    1669\n",
            "0    1669\n",
            "Name: CHURN, dtype: int64\n"
          ]
        },
        {
          "output_type": "execute_result",
          "data": {
            "text/plain": [
              "<matplotlib.axes._subplots.AxesSubplot at 0x7f00f1d72fd0>"
            ]
          },
          "metadata": {},
          "execution_count": 72
        },
        {
          "output_type": "display_data",
          "data": {
            "image/png": "[encoded data removed]",
            "text/plain": [
              "<Figure size 432x288 with 1 Axes>"
            ]
          },
          "metadata": {
            "needs_background": "light"
          }
        }
      ]
    },
    {
      "cell_type": "code",
      "source": [
        "test_under.shape"
      ],
      "metadata": {
        "colab": {
          "base_uri": "https://localhost:8080/"
        },
        "id": "TWxiUE--IiWh",
        "outputId": "ed64e07b-3f90-4055-83f2-033e569a3df5"
      },
      "execution_count": 73,
      "outputs": [
        {
          "output_type": "execute_result",
          "data": {
            "text/plain": [
              "(3338, 39)"
            ]
          },
          "metadata": {},
          "execution_count": 73
        }
      ]
    },
    {
      "cell_type": "markdown",
      "source": [
        "#Alternative Sampling"
      ],
      "metadata": {
        "id": "WhQyW6-AHR09"
      }
    },
    {
      "cell_type": "code",
      "source": [
        "y = df_study[\"CHURN\"]\n",
        "X = df_study.drop([\"CHURN\"], axis=1)"
      ],
      "metadata": {
        "id": "mGr-AFi3Ins0"
      },
      "execution_count": 74,
      "outputs": []
    },
    {
      "cell_type": "code",
      "source": [
        "import imblearn"
      ],
      "metadata": {
        "id": "3qA1REjPHRJR"
      },
      "execution_count": 56,
      "outputs": []
    },
    {
      "cell_type": "code",
      "source": [
        "from imblearn.under_sampling import RandomUnderSampler\n",
        "\n",
        "rus = RandomUnderSampler(random_state=42, replacement=True)# fit predictor and target variable\n",
        "x_rus, y_rus = rus.fit_resample(X, y)"
      ],
      "metadata": {
        "id": "712dtAHrHY8D"
      },
      "execution_count": 75,
      "outputs": []
    },
    {
      "cell_type": "code",
      "source": [
        "y_rus=pd.DataFrame(y_rus)"
      ],
      "metadata": {
        "id": "2TJ59gPOHhny"
      },
      "execution_count": 76,
      "outputs": []
    },
    {
      "cell_type": "code",
      "source": [
        "x_rus=pd.DataFrame(x_rus)"
      ],
      "metadata": {
        "id": "KwxkndXNHuYK"
      },
      "execution_count": 77,
      "outputs": []
    },
    {
      "cell_type": "code",
      "source": [
        "y_rus.shape"
      ],
      "metadata": {
        "colab": {
          "base_uri": "https://localhost:8080/"
        },
        "id": "Wx8xsVE4IuYO",
        "outputId": "d7e62c46-fd0f-45a5-8cc6-dcb5ab5afdb7"
      },
      "execution_count": 79,
      "outputs": [
        {
          "output_type": "execute_result",
          "data": {
            "text/plain": [
              "(3338, 1)"
            ]
          },
          "metadata": {},
          "execution_count": 79
        }
      ]
    },
    {
      "cell_type": "code",
      "source": [
        "y_rus['CHURN'].value_counts()"
      ],
      "metadata": {
        "colab": {
          "base_uri": "https://localhost:8080/"
        },
        "id": "WJrB0q2WHzdR",
        "outputId": "9d0298b1-9587-4ac1-b385-c72c33f54e2e"
      },
      "execution_count": 80,
      "outputs": [
        {
          "output_type": "execute_result",
          "data": {
            "text/plain": [
              "1    1669\n",
              "0    1669\n",
              "Name: CHURN, dtype: int64"
            ]
          },
          "metadata": {},
          "execution_count": 80
        }
      ]
    },
    {
      "cell_type": "code",
      "source": [
        "test_under2 = pd.concat([x_rus, y_rus], axis=1)\n",
        "test_under2.info()"
      ],
      "metadata": {
        "id": "Re13M0MbH73i"
      },
      "execution_count": null,
      "outputs": []
    },
    {
      "cell_type": "code",
      "source": [
        "test_under2['CHURN'].value_counts()"
      ],
      "metadata": {
        "colab": {
          "base_uri": "https://localhost:8080/"
        },
        "id": "DZbxsCYEIJL6",
        "outputId": "b5a12aec-db1b-480f-878f-97cf31cc0a0b"
      },
      "execution_count": 86,
      "outputs": [
        {
          "output_type": "execute_result",
          "data": {
            "text/plain": [
              "1    1669\n",
              "0    1669\n",
              "Name: CHURN, dtype: int64"
            ]
          },
          "metadata": {},
          "execution_count": 86
        }
      ]
    },
    {
      "cell_type": "code",
      "source": [
        "test_under2.shape"
      ],
      "metadata": {
        "colab": {
          "base_uri": "https://localhost:8080/"
        },
        "id": "6NmDt6tfITIL",
        "outputId": "d6aa8a90-652d-4401-df2b-3af1be524ee3"
      },
      "execution_count": 88,
      "outputs": [
        {
          "output_type": "execute_result",
          "data": {
            "text/plain": [
              "(3338, 39)"
            ]
          },
          "metadata": {},
          "execution_count": 88
        }
      ]
    },
    {
      "cell_type": "markdown",
      "source": [
        "#Build Model"
      ],
      "metadata": {
        "id": "LE0o8odjNhAu"
      }
    },
    {
      "cell_type": "code",
      "source": [
        "y = test_under2[\"CHURN\"]\n",
        "X = test_under2.drop([\"CHURN\"], axis=1)"
      ],
      "metadata": {
        "id": "9pZKmXUJJixc"
      },
      "execution_count": 90,
      "outputs": []
    },
    {
      "cell_type": "code",
      "source": [
        "X=X.iloc[:,[4,7,8,9,12,13,26,27]]"
      ],
      "metadata": {
        "id": "hRMQTeEiJoHH"
      },
      "execution_count": 92,
      "outputs": []
    },
    {
      "cell_type": "code",
      "source": [
        "le =  LabelEncoder()\n",
        "y_le = le.fit_transform(y) \n",
        "y_le"
      ],
      "metadata": {
        "colab": {
          "base_uri": "https://localhost:8080/"
        },
        "id": "KH-O0I6oKY39",
        "outputId": "869f2a7f-2c70-4512-ea3a-8b99a55fa934"
      },
      "execution_count": 94,
      "outputs": [
        {
          "output_type": "execute_result",
          "data": {
            "text/plain": [
              "array([0, 0, 0, ..., 1, 1, 1])"
            ]
          },
          "metadata": {},
          "execution_count": 94
        }
      ]
    },
    {
      "cell_type": "code",
      "source": [
        "#target into one hot encoding\n",
        "y_ohe = pd.get_dummies(y_le).values\n",
        "y_ohe"
      ],
      "metadata": {
        "colab": {
          "base_uri": "https://localhost:8080/"
        },
        "id": "ZExtA2G5KjPk",
        "outputId": "9bc55448-4bbe-473d-fdfe-c0431c3cf2ff"
      },
      "execution_count": 95,
      "outputs": [
        {
          "output_type": "execute_result",
          "data": {
            "text/plain": [
              "array([[1, 0],\n",
              "       [1, 0],\n",
              "       [1, 0],\n",
              "       ...,\n",
              "       [0, 1],\n",
              "       [0, 1],\n",
              "       [0, 1]], dtype=uint8)"
            ]
          },
          "metadata": {},
          "execution_count": 95
        }
      ]
    },
    {
      "cell_type": "code",
      "source": [
        "# Split the data for training and testing\n",
        "X_train, X_test, y_train, y_test = train_test_split(X, y_ohe, test_size=0.30, random_state=17)\n",
        "X_train.shape, X_test.shape, y_train.shape, y_test.shape"
      ],
      "metadata": {
        "colab": {
          "base_uri": "https://localhost:8080/"
        },
        "id": "Wy6fdodhKpXi",
        "outputId": "647328e2-8c21-4e3e-a907-f88c64047665"
      },
      "execution_count": 97,
      "outputs": [
        {
          "output_type": "execute_result",
          "data": {
            "text/plain": [
              "((2336, 8), (1002, 8), (2336, 2), (1002, 2))"
            ]
          },
          "metadata": {},
          "execution_count": 97
        }
      ]
    },
    {
      "cell_type": "code",
      "source": [
        "model = Sequential()\n",
        "\n",
        "model.add(layers.Dense(4, activation=\"relu\", name=\"layer1\",input_shape=(8,)))\n",
        "model.add(layers.Dense(4, activation=\"relu\", name=\"layer2\"))\n",
        "model.add(layers.Dense(2, activation=\"softmax\", name=\"outputs\"))"
      ],
      "metadata": {
        "id": "hlxVLDzALO7r"
      },
      "execution_count": 98,
      "outputs": []
    },
    {
      "cell_type": "code",
      "source": [
        "# Adam optimizer with learning rate of 0.001\n",
        "optimizer = Adam(lr=0.001)\n",
        "model.compile(optimizer, loss='categorical_crossentropy', metrics=['accuracy'])\n",
        "\n",
        "# Train the model\n",
        "model.fit(X_train, y_train, verbose=1, batch_size=5, epochs=50)"
      ],
      "metadata": {
        "colab": {
          "base_uri": "https://localhost:8080/"
        },
        "id": "6SSHuEoaLVvB",
        "outputId": "d0b3a8f3-f84c-4ed2-9dce-98beb6e724a0"
      },
      "execution_count": 99,
      "outputs": [
        {
          "output_type": "stream",
          "name": "stderr",
          "text": [
            "/usr/local/lib/python3.7/dist-packages/keras/optimizer_v2/adam.py:105: UserWarning: The `lr` argument is deprecated, use `learning_rate` instead.\n",
            "  super(Adam, self).__init__(name, **kwargs)\n"
          ]
        },
        {
          "output_type": "stream",
          "name": "stdout",
          "text": [
            "Epoch 1/50\n",
            "468/468 [==============================] - 4s 3ms/step - loss: 0.6573 - accuracy: 0.6199\n",
            "Epoch 2/50\n",
            "468/468 [==============================] - 1s 3ms/step - loss: 0.5841 - accuracy: 0.7277\n",
            "Epoch 3/50\n",
            "468/468 [==============================] - 1s 3ms/step - loss: 0.5502 - accuracy: 0.7359\n",
            "Epoch 4/50\n",
            "468/468 [==============================] - 1s 3ms/step - loss: 0.5351 - accuracy: 0.7453\n",
            "Epoch 5/50\n",
            "468/468 [==============================] - 1s 3ms/step - loss: 0.5282 - accuracy: 0.7491\n",
            "Epoch 6/50\n",
            "468/468 [==============================] - 1s 3ms/step - loss: 0.5236 - accuracy: 0.7470\n",
            "Epoch 7/50\n",
            "468/468 [==============================] - 1s 3ms/step - loss: 0.5206 - accuracy: 0.7457\n",
            "Epoch 8/50\n",
            "468/468 [==============================] - 1s 3ms/step - loss: 0.5168 - accuracy: 0.7474\n",
            "Epoch 9/50\n",
            "468/468 [==============================] - 1s 3ms/step - loss: 0.5143 - accuracy: 0.7504\n",
            "Epoch 10/50\n",
            "468/468 [==============================] - 1s 3ms/step - loss: 0.5111 - accuracy: 0.7483\n",
            "Epoch 11/50\n",
            "468/468 [==============================] - 1s 3ms/step - loss: 0.5051 - accuracy: 0.7526\n",
            "Epoch 12/50\n",
            "468/468 [==============================] - 1s 3ms/step - loss: 0.5008 - accuracy: 0.7526\n",
            "Epoch 13/50\n",
            "468/468 [==============================] - 1s 3ms/step - loss: 0.4993 - accuracy: 0.7509\n",
            "Epoch 14/50\n",
            "468/468 [==============================] - 1s 3ms/step - loss: 0.4972 - accuracy: 0.7560\n",
            "Epoch 15/50\n",
            "468/468 [==============================] - 1s 3ms/step - loss: 0.4957 - accuracy: 0.7581\n",
            "Epoch 16/50\n",
            "468/468 [==============================] - 1s 3ms/step - loss: 0.4949 - accuracy: 0.7547\n",
            "Epoch 17/50\n",
            "468/468 [==============================] - 1s 3ms/step - loss: 0.4943 - accuracy: 0.7603\n",
            "Epoch 18/50\n",
            "468/468 [==============================] - 1s 3ms/step - loss: 0.4935 - accuracy: 0.7543\n",
            "Epoch 19/50\n",
            "468/468 [==============================] - 1s 3ms/step - loss: 0.4925 - accuracy: 0.7547\n",
            "Epoch 20/50\n",
            "468/468 [==============================] - 1s 3ms/step - loss: 0.4932 - accuracy: 0.7590\n",
            "Epoch 21/50\n",
            "468/468 [==============================] - 1s 3ms/step - loss: 0.4929 - accuracy: 0.7603\n",
            "Epoch 22/50\n",
            "468/468 [==============================] - 1s 3ms/step - loss: 0.4925 - accuracy: 0.7586\n",
            "Epoch 23/50\n",
            "468/468 [==============================] - 1s 3ms/step - loss: 0.4921 - accuracy: 0.7603\n",
            "Epoch 24/50\n",
            "468/468 [==============================] - 1s 3ms/step - loss: 0.4906 - accuracy: 0.7586\n",
            "Epoch 25/50\n",
            "468/468 [==============================] - 1s 3ms/step - loss: 0.4919 - accuracy: 0.7581\n",
            "Epoch 26/50\n",
            "468/468 [==============================] - 1s 3ms/step - loss: 0.4917 - accuracy: 0.7560\n",
            "Epoch 27/50\n",
            "468/468 [==============================] - 1s 3ms/step - loss: 0.4903 - accuracy: 0.7556\n",
            "Epoch 28/50\n",
            "468/468 [==============================] - 1s 3ms/step - loss: 0.4915 - accuracy: 0.7603\n",
            "Epoch 29/50\n",
            "468/468 [==============================] - 1s 3ms/step - loss: 0.4909 - accuracy: 0.7581\n",
            "Epoch 30/50\n",
            "468/468 [==============================] - 1s 3ms/step - loss: 0.4912 - accuracy: 0.7581\n",
            "Epoch 31/50\n",
            "468/468 [==============================] - 1s 3ms/step - loss: 0.4910 - accuracy: 0.7568\n",
            "Epoch 32/50\n",
            "468/468 [==============================] - 1s 3ms/step - loss: 0.4903 - accuracy: 0.7568\n",
            "Epoch 33/50\n",
            "468/468 [==============================] - 1s 3ms/step - loss: 0.4901 - accuracy: 0.7590\n",
            "Epoch 34/50\n",
            "468/468 [==============================] - 1s 3ms/step - loss: 0.4900 - accuracy: 0.7607\n",
            "Epoch 35/50\n",
            "468/468 [==============================] - 1s 3ms/step - loss: 0.4901 - accuracy: 0.7603\n",
            "Epoch 36/50\n",
            "468/468 [==============================] - 1s 3ms/step - loss: 0.4894 - accuracy: 0.7616\n",
            "Epoch 37/50\n",
            "468/468 [==============================] - 1s 3ms/step - loss: 0.4895 - accuracy: 0.7551\n",
            "Epoch 38/50\n",
            "468/468 [==============================] - 1s 3ms/step - loss: 0.4894 - accuracy: 0.7568\n",
            "Epoch 39/50\n",
            "468/468 [==============================] - 1s 3ms/step - loss: 0.4902 - accuracy: 0.7568\n",
            "Epoch 40/50\n",
            "468/468 [==============================] - 1s 3ms/step - loss: 0.4892 - accuracy: 0.7594\n",
            "Epoch 41/50\n",
            "468/468 [==============================] - 1s 3ms/step - loss: 0.4896 - accuracy: 0.7581\n",
            "Epoch 42/50\n",
            "468/468 [==============================] - 1s 3ms/step - loss: 0.4891 - accuracy: 0.7590\n",
            "Epoch 43/50\n",
            "468/468 [==============================] - 1s 3ms/step - loss: 0.4892 - accuracy: 0.7628\n",
            "Epoch 44/50\n",
            "468/468 [==============================] - 1s 3ms/step - loss: 0.4893 - accuracy: 0.7577\n",
            "Epoch 45/50\n",
            "468/468 [==============================] - 1s 3ms/step - loss: 0.4892 - accuracy: 0.7556\n",
            "Epoch 46/50\n",
            "468/468 [==============================] - 1s 3ms/step - loss: 0.4889 - accuracy: 0.7586\n",
            "Epoch 47/50\n",
            "468/468 [==============================] - 1s 3ms/step - loss: 0.4895 - accuracy: 0.7590\n",
            "Epoch 48/50\n",
            "468/468 [==============================] - 1s 3ms/step - loss: 0.4888 - accuracy: 0.7568\n",
            "Epoch 49/50\n",
            "468/468 [==============================] - 1s 3ms/step - loss: 0.4885 - accuracy: 0.7556\n",
            "Epoch 50/50\n",
            "468/468 [==============================] - 1s 3ms/step - loss: 0.4883 - accuracy: 0.7560\n"
          ]
        },
        {
          "output_type": "execute_result",
          "data": {
            "text/plain": [
              "<keras.callbacks.History at 0x7f0080102e10>"
            ]
          },
          "metadata": {},
          "execution_count": 99
        }
      ]
    },
    {
      "cell_type": "code",
      "source": [
        "results = model.evaluate(X_test, y_test)\n",
        "\n",
        "print('Final test set loss: {:4f}'.format(results[0]))\n",
        "print('Final test set accuracy: {:4f}'.format(results[1]))"
      ],
      "metadata": {
        "colab": {
          "base_uri": "https://localhost:8080/"
        },
        "id": "s4C97ENeL5Ml",
        "outputId": "f8ab3525-1dc0-45f2-817d-aee1e84c071e"
      },
      "execution_count": 100,
      "outputs": [
        {
          "output_type": "stream",
          "name": "stdout",
          "text": [
            "32/32 [==============================] - 0s 3ms/step - loss: 0.4865 - accuracy: 0.7525\n",
            "Final test set loss: 0.486466\n",
            "Final test set accuracy: 0.752495\n"
          ]
        }
      ]
    },
    {
      "cell_type": "code",
      "source": [
        "#Predict test data\n",
        "pred_y = model.predict(X_test)\n",
        "pred_y"
      ],
      "metadata": {
        "colab": {
          "base_uri": "https://localhost:8080/"
        },
        "id": "WFlJEW5dL9QC",
        "outputId": "3a2bc159-54b8-40d9-ed23-e1f6e3a518df"
      },
      "execution_count": 101,
      "outputs": [
        {
          "output_type": "execute_result",
          "data": {
            "text/plain": [
              "array([[0.24221551, 0.7577844 ],\n",
              "       [0.9045443 , 0.0954557 ],\n",
              "       [0.17087036, 0.82912964],\n",
              "       ...,\n",
              "       [0.23211543, 0.7678846 ],\n",
              "       [0.52935725, 0.47064272],\n",
              "       [0.12882324, 0.8711768 ]], dtype=float32)"
            ]
          },
          "metadata": {},
          "execution_count": 101
        }
      ]
    },
    {
      "cell_type": "code",
      "source": [
        "# Actual and predicted value\n",
        "actual = np.argmax(y_test,axis=1)\n",
        "predicted = np.argmax(pred_y,axis=1)\n",
        "print(f\"Actual: {actual}\")\n",
        "print(f\"Predicted: {predicted}\")"
      ],
      "metadata": {
        "colab": {
          "base_uri": "https://localhost:8080/"
        },
        "id": "vZgpB5lFMAI7",
        "outputId": "de7cbd07-076f-479d-dd2d-0cbf0daa9bd4"
      },
      "execution_count": 102,
      "outputs": [
        {
          "output_type": "stream",
          "name": "stdout",
          "text": [
            "Actual: [1 0 1 ... 1 1 0]\n",
            "Predicted: [1 0 1 ... 1 0 1]\n"
          ]
        }
      ]
    },
    {
      "cell_type": "code",
      "source": [
        "cm = confusion_matrix(actual,predicted)\n",
        "print(classification_report(actual,predicted))"
      ],
      "metadata": {
        "colab": {
          "base_uri": "https://localhost:8080/"
        },
        "id": "Aso9_hCLMCqm",
        "outputId": "7d648f83-a692-49d0-d03e-a0d49fbd45d3"
      },
      "execution_count": 103,
      "outputs": [
        {
          "output_type": "stream",
          "name": "stdout",
          "text": [
            "              precision    recall  f1-score   support\n",
            "\n",
            "           0       0.77      0.72      0.74       501\n",
            "           1       0.74      0.79      0.76       501\n",
            "\n",
            "    accuracy                           0.75      1002\n",
            "   macro avg       0.75      0.75      0.75      1002\n",
            "weighted avg       0.75      0.75      0.75      1002\n",
            "\n"
          ]
        }
      ]
    },
    {
      "cell_type": "code",
      "source": [
        "ax= plt.subplot()\n",
        "sns.heatmap(cm, annot=True, fmt='g', ax=ax);  #annot=True to annotate cells, ftm='g' to disable scientific notation\n",
        "\n",
        "# labels, title and ticks\n",
        "ax.set_xlabel('Predicted labels');ax.set_ylabel('True labels'); \n",
        "ax.set_title('Confusion Matrix'); \n",
        "ax.xaxis.set_ticklabels(['No churn', 'Churn']); ax.yaxis.set_ticklabels(['No churn', 'Churn']);"
      ],
      "metadata": {
        "colab": {
          "base_uri": "https://localhost:8080/",
          "height": 295
        },
        "id": "ctJCyPSHMFEX",
        "outputId": "ecf5e597-20b4-4d2d-aaa1-aebcbb2d84f5"
      },
      "execution_count": 104,
      "outputs": [
        {
          "output_type": "display_data",
          "data": {
            "image/png": "[encoded data removed]",
            "text/plain": [
              "<Figure size 432x288 with 2 Axes>"
            ]
          },
          "metadata": {
            "needs_background": "light"
          }
        }
      ]
    }
  ]
}